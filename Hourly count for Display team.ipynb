{
 "cells": [
  {
   "cell_type": "code",
   "execution_count": 56,
   "metadata": {},
   "outputs": [],
   "source": [
    "import pandas as pd\n",
    "import glob\n",
    "import os"
   ]
  },
  {
   "cell_type": "code",
   "execution_count": 57,
   "metadata": {},
   "outputs": [],
   "source": [
    "path = r'C:\\\\Users\\\\ishetty\\\\Documents'                 \n",
    "all_files = glob.glob(os.path.join(path, \"*.csv\"))"
   ]
  },
  {
   "cell_type": "code",
   "execution_count": 54,
   "metadata": {},
   "outputs": [
    {
     "data": {
      "text/plain": [
       "'C:\\\\Users\\\\ishetty\\\\Documents'"
      ]
     },
     "execution_count": 54,
     "metadata": {},
     "output_type": "execute_result"
    }
   ],
   "source": [
    "pwd"
   ]
  },
  {
   "cell_type": "code",
   "execution_count": 58,
   "metadata": {},
   "outputs": [
    {
     "data": {
      "text/plain": [
       "['C:\\\\\\\\Users\\\\\\\\ishetty\\\\\\\\Documents\\\\[NQ]_[DELOITTE]_Native_Hourly_Report_-_hourly-2020-12-02 (1).csv',\n",
       " 'C:\\\\\\\\Users\\\\\\\\ishetty\\\\\\\\Documents\\\\[NQ]_[DELOITTE]_Native_Hourly_Report_-_hourly-2020-12-02.csv',\n",
       " 'C:\\\\\\\\Users\\\\\\\\ishetty\\\\\\\\Documents\\\\[NQ]_[DELOITTE]_Native_Hourly_Report_-_hourly-2020-12-03 (1).csv',\n",
       " 'C:\\\\\\\\Users\\\\\\\\ishetty\\\\\\\\Documents\\\\[NQ]_[DELOITTE]_Native_Hourly_Report_-_hourly-2020-12-03 (2).csv',\n",
       " 'C:\\\\\\\\Users\\\\\\\\ishetty\\\\\\\\Documents\\\\[NQ]_[DELOITTE]_Native_Hourly_Report_-_hourly-2020-12-03 (3).csv',\n",
       " 'C:\\\\\\\\Users\\\\\\\\ishetty\\\\\\\\Documents\\\\[NQ]_[DELOITTE]_Native_Hourly_Report_-_hourly-2020-12-03 (4).csv',\n",
       " 'C:\\\\\\\\Users\\\\\\\\ishetty\\\\\\\\Documents\\\\[NQ]_[DELOITTE]_Native_Hourly_Report_-_hourly-2020-12-03 (5).csv',\n",
       " 'C:\\\\\\\\Users\\\\\\\\ishetty\\\\\\\\Documents\\\\[NQ]_[DELOITTE]_Native_Hourly_Report_-_hourly-2020-12-03 (6).csv',\n",
       " 'C:\\\\\\\\Users\\\\\\\\ishetty\\\\\\\\Documents\\\\[NQ]_[DELOITTE]_Native_Hourly_Report_-_hourly-2020-12-03 (7).csv',\n",
       " 'C:\\\\\\\\Users\\\\\\\\ishetty\\\\\\\\Documents\\\\[NQ]_[DELOITTE]_Native_Hourly_Report_-_hourly-2020-12-03.csv']"
      ]
     },
     "execution_count": 58,
     "metadata": {},
     "output_type": "execute_result"
    }
   ],
   "source": [
    "all_files"
   ]
  },
  {
   "cell_type": "code",
   "execution_count": 63,
   "metadata": {},
   "outputs": [],
   "source": [
    "no = 1\n",
    "for file in all_files:\n",
    "    locals()[\"hour\"+str(no)] = pd.read_csv(file)\n",
    "    no += 1"
   ]
  },
  {
   "cell_type": "code",
   "execution_count": 64,
   "metadata": {},
   "outputs": [
    {
     "data": {
      "text/html": [
       "<div>\n",
       "<style scoped>\n",
       "    .dataframe tbody tr th:only-of-type {\n",
       "        vertical-align: middle;\n",
       "    }\n",
       "\n",
       "    .dataframe tbody tr th {\n",
       "        vertical-align: top;\n",
       "    }\n",
       "\n",
       "    .dataframe thead th {\n",
       "        text-align: right;\n",
       "    }\n",
       "</style>\n",
       "<table border=\"1\" class=\"dataframe\">\n",
       "  <thead>\n",
       "    <tr style=\"text-align: right;\">\n",
       "      <th></th>\n",
       "      <th>Auditor</th>\n",
       "      <th>Source</th>\n",
       "      <th>Queue</th>\n",
       "      <th>Type</th>\n",
       "      <th>Total</th>\n",
       "    </tr>\n",
       "  </thead>\n",
       "  <tbody>\n",
       "    <tr>\n",
       "      <th>0</th>\n",
       "      <td>abanerjee03</td>\n",
       "      <td>CB</td>\n",
       "      <td>Trusted Premium</td>\n",
       "      <td>NATIVE_AD</td>\n",
       "      <td>7032</td>\n",
       "    </tr>\n",
       "    <tr>\n",
       "      <th>1</th>\n",
       "      <td>abanerjee03</td>\n",
       "      <td>CB</td>\n",
       "      <td>Moderate Risk CP</td>\n",
       "      <td>NATIVE_AD</td>\n",
       "      <td>100</td>\n",
       "    </tr>\n",
       "    <tr>\n",
       "      <th>2</th>\n",
       "      <td>abanerjee03</td>\n",
       "      <td>CB</td>\n",
       "      <td>Mod Risk EMEA</td>\n",
       "      <td>NATIVE_AD</td>\n",
       "      <td>450</td>\n",
       "    </tr>\n",
       "    <tr>\n",
       "      <th>3</th>\n",
       "      <td>abanu01</td>\n",
       "      <td>CB</td>\n",
       "      <td>Moderate Risk CP</td>\n",
       "      <td>NATIVE_AD</td>\n",
       "      <td>980</td>\n",
       "    </tr>\n",
       "    <tr>\n",
       "      <th>4</th>\n",
       "      <td>abanu01</td>\n",
       "      <td>CB</td>\n",
       "      <td>Mod Risk EMEA</td>\n",
       "      <td>NATIVE_AD</td>\n",
       "      <td>2529</td>\n",
       "    </tr>\n",
       "    <tr>\n",
       "      <th>...</th>\n",
       "      <td>...</td>\n",
       "      <td>...</td>\n",
       "      <td>...</td>\n",
       "      <td>...</td>\n",
       "      <td>...</td>\n",
       "    </tr>\n",
       "    <tr>\n",
       "      <th>164</th>\n",
       "      <td>umuniram</td>\n",
       "      <td>CB</td>\n",
       "      <td>Moderate Risk CP</td>\n",
       "      <td>NATIVE_AD</td>\n",
       "      <td>100</td>\n",
       "    </tr>\n",
       "    <tr>\n",
       "      <th>165</th>\n",
       "      <td>vbegum</td>\n",
       "      <td>CB</td>\n",
       "      <td>Trusted Premium</td>\n",
       "      <td>NATIVE_AD</td>\n",
       "      <td>1498</td>\n",
       "    </tr>\n",
       "    <tr>\n",
       "      <th>166</th>\n",
       "      <td>vraghuvamsh</td>\n",
       "      <td>CB</td>\n",
       "      <td>Carousel</td>\n",
       "      <td>NATIVE_AD</td>\n",
       "      <td>70</td>\n",
       "    </tr>\n",
       "    <tr>\n",
       "      <th>167</th>\n",
       "      <td>vraghuvamsh</td>\n",
       "      <td>CB</td>\n",
       "      <td>Trusted Premium</td>\n",
       "      <td>NATIVE_AD</td>\n",
       "      <td>79</td>\n",
       "    </tr>\n",
       "    <tr>\n",
       "      <th>168</th>\n",
       "      <td>vshivakumar</td>\n",
       "      <td>CB</td>\n",
       "      <td>Moderate Risk CP</td>\n",
       "      <td>NATIVE_AD</td>\n",
       "      <td>700</td>\n",
       "    </tr>\n",
       "  </tbody>\n",
       "</table>\n",
       "<p>169 rows × 5 columns</p>\n",
       "</div>"
      ],
      "text/plain": [
       "         Auditor Source             Queue       Type  Total\n",
       "0    abanerjee03     CB   Trusted Premium  NATIVE_AD   7032\n",
       "1    abanerjee03     CB  Moderate Risk CP  NATIVE_AD    100\n",
       "2    abanerjee03     CB     Mod Risk EMEA  NATIVE_AD    450\n",
       "3        abanu01     CB  Moderate Risk CP  NATIVE_AD    980\n",
       "4        abanu01     CB     Mod Risk EMEA  NATIVE_AD   2529\n",
       "..           ...    ...               ...        ...    ...\n",
       "164     umuniram     CB  Moderate Risk CP  NATIVE_AD    100\n",
       "165       vbegum     CB   Trusted Premium  NATIVE_AD   1498\n",
       "166  vraghuvamsh     CB          Carousel  NATIVE_AD     70\n",
       "167  vraghuvamsh     CB   Trusted Premium  NATIVE_AD     79\n",
       "168  vshivakumar     CB  Moderate Risk CP  NATIVE_AD    700\n",
       "\n",
       "[169 rows x 5 columns]"
      ]
     },
     "execution_count": 64,
     "metadata": {},
     "output_type": "execute_result"
    }
   ],
   "source": [
    "hour1"
   ]
  },
  {
   "cell_type": "code",
   "execution_count": 75,
   "metadata": {},
   "outputs": [],
   "source": [
    "list1 = [\"hour0\",\"hour1\",\"hour2\",\"hour3\",\"hour4\",\"hour5\",\"hour6\",\"hour7\",\"hour8\",\"hour9\"]"
   ]
  },
  {
   "cell_type": "code",
   "execution_count": 76,
   "metadata": {},
   "outputs": [],
   "source": [
    "total = pd.concat([hour1,hour2,hour3,hour4,hour5,hour6,hour7,hour8,hour9,hour10],ignore_index= False, keys=list1, names=[\"Hours\"])"
   ]
  },
  {
   "cell_type": "code",
   "execution_count": 77,
   "metadata": {},
   "outputs": [
    {
     "data": {
      "text/html": [
       "<div>\n",
       "<style scoped>\n",
       "    .dataframe tbody tr th:only-of-type {\n",
       "        vertical-align: middle;\n",
       "    }\n",
       "\n",
       "    .dataframe tbody tr th {\n",
       "        vertical-align: top;\n",
       "    }\n",
       "\n",
       "    .dataframe thead th {\n",
       "        text-align: right;\n",
       "    }\n",
       "</style>\n",
       "<table border=\"1\" class=\"dataframe\">\n",
       "  <thead>\n",
       "    <tr style=\"text-align: right;\">\n",
       "      <th></th>\n",
       "      <th></th>\n",
       "      <th>Auditor</th>\n",
       "      <th>Source</th>\n",
       "      <th>Queue</th>\n",
       "      <th>Type</th>\n",
       "      <th>Total</th>\n",
       "    </tr>\n",
       "    <tr>\n",
       "      <th>Hours</th>\n",
       "      <th></th>\n",
       "      <th></th>\n",
       "      <th></th>\n",
       "      <th></th>\n",
       "      <th></th>\n",
       "      <th></th>\n",
       "    </tr>\n",
       "  </thead>\n",
       "  <tbody>\n",
       "    <tr>\n",
       "      <th rowspan=\"5\" valign=\"top\">hour0</th>\n",
       "      <th>0</th>\n",
       "      <td>abanerjee03</td>\n",
       "      <td>CB</td>\n",
       "      <td>Trusted Premium</td>\n",
       "      <td>NATIVE_AD</td>\n",
       "      <td>7032</td>\n",
       "    </tr>\n",
       "    <tr>\n",
       "      <th>1</th>\n",
       "      <td>abanerjee03</td>\n",
       "      <td>CB</td>\n",
       "      <td>Moderate Risk CP</td>\n",
       "      <td>NATIVE_AD</td>\n",
       "      <td>100</td>\n",
       "    </tr>\n",
       "    <tr>\n",
       "      <th>2</th>\n",
       "      <td>abanerjee03</td>\n",
       "      <td>CB</td>\n",
       "      <td>Mod Risk EMEA</td>\n",
       "      <td>NATIVE_AD</td>\n",
       "      <td>450</td>\n",
       "    </tr>\n",
       "    <tr>\n",
       "      <th>3</th>\n",
       "      <td>abanu01</td>\n",
       "      <td>CB</td>\n",
       "      <td>Moderate Risk CP</td>\n",
       "      <td>NATIVE_AD</td>\n",
       "      <td>980</td>\n",
       "    </tr>\n",
       "    <tr>\n",
       "      <th>4</th>\n",
       "      <td>abanu01</td>\n",
       "      <td>CB</td>\n",
       "      <td>Mod Risk EMEA</td>\n",
       "      <td>NATIVE_AD</td>\n",
       "      <td>2529</td>\n",
       "    </tr>\n",
       "    <tr>\n",
       "      <th>...</th>\n",
       "      <th>...</th>\n",
       "      <td>...</td>\n",
       "      <td>...</td>\n",
       "      <td>...</td>\n",
       "      <td>...</td>\n",
       "      <td>...</td>\n",
       "    </tr>\n",
       "    <tr>\n",
       "      <th rowspan=\"5\" valign=\"top\">hour9</th>\n",
       "      <th>175</th>\n",
       "      <td>vraghuvamsh</td>\n",
       "      <td>CB</td>\n",
       "      <td>Carousel</td>\n",
       "      <td>NATIVE_AD</td>\n",
       "      <td>260</td>\n",
       "    </tr>\n",
       "    <tr>\n",
       "      <th>176</th>\n",
       "      <td>vraghuvamsh</td>\n",
       "      <td>CB</td>\n",
       "      <td>Trusted Premium</td>\n",
       "      <td>NATIVE_AD</td>\n",
       "      <td>569</td>\n",
       "    </tr>\n",
       "    <tr>\n",
       "      <th>177</th>\n",
       "      <td>vraghuvamsh</td>\n",
       "      <td>CB</td>\n",
       "      <td>High Risk CP</td>\n",
       "      <td>NATIVE_AD</td>\n",
       "      <td>20</td>\n",
       "    </tr>\n",
       "    <tr>\n",
       "      <th>178</th>\n",
       "      <td>vshivakumar</td>\n",
       "      <td>CB</td>\n",
       "      <td>Moderate Risk CP</td>\n",
       "      <td>NATIVE_AD</td>\n",
       "      <td>700</td>\n",
       "    </tr>\n",
       "    <tr>\n",
       "      <th>179</th>\n",
       "      <td>vshivakumar</td>\n",
       "      <td>CB</td>\n",
       "      <td>Mod Risk EMEA</td>\n",
       "      <td>NATIVE_AD</td>\n",
       "      <td>350</td>\n",
       "    </tr>\n",
       "  </tbody>\n",
       "</table>\n",
       "<p>2009 rows × 5 columns</p>\n",
       "</div>"
      ],
      "text/plain": [
       "               Auditor Source             Queue       Type  Total\n",
       "Hours                                                            \n",
       "hour0 0    abanerjee03     CB   Trusted Premium  NATIVE_AD   7032\n",
       "      1    abanerjee03     CB  Moderate Risk CP  NATIVE_AD    100\n",
       "      2    abanerjee03     CB     Mod Risk EMEA  NATIVE_AD    450\n",
       "      3        abanu01     CB  Moderate Risk CP  NATIVE_AD    980\n",
       "      4        abanu01     CB     Mod Risk EMEA  NATIVE_AD   2529\n",
       "...                ...    ...               ...        ...    ...\n",
       "hour9 175  vraghuvamsh     CB          Carousel  NATIVE_AD    260\n",
       "      176  vraghuvamsh     CB   Trusted Premium  NATIVE_AD    569\n",
       "      177  vraghuvamsh     CB      High Risk CP  NATIVE_AD     20\n",
       "      178  vshivakumar     CB  Moderate Risk CP  NATIVE_AD    700\n",
       "      179  vshivakumar     CB     Mod Risk EMEA  NATIVE_AD    350\n",
       "\n",
       "[2009 rows x 5 columns]"
      ]
     },
     "execution_count": 77,
     "metadata": {},
     "output_type": "execute_result"
    }
   ],
   "source": [
    "total"
   ]
  },
  {
   "cell_type": "code",
   "execution_count": 78,
   "metadata": {},
   "outputs": [
    {
     "name": "stdout",
     "output_type": "stream",
     "text": [
      "<class 'pandas.core.frame.DataFrame'>\n",
      "MultiIndex: 2009 entries, ('hour0', 0) to ('hour9', 179)\n",
      "Data columns (total 5 columns):\n",
      " #   Column   Non-Null Count  Dtype \n",
      "---  ------   --------------  ----- \n",
      " 0   Auditor  2009 non-null   object\n",
      " 1   Source   2009 non-null   object\n",
      " 2   Queue    2009 non-null   object\n",
      " 3   Type     2009 non-null   object\n",
      " 4   Total    2009 non-null   int64 \n",
      "dtypes: int64(1), object(4)\n",
      "memory usage: 86.5+ KB\n"
     ]
    }
   ],
   "source": [
    "total.info()"
   ]
  },
  {
   "cell_type": "code",
   "execution_count": 79,
   "metadata": {},
   "outputs": [
    {
     "data": {
      "text/plain": [
       "67"
      ]
     },
     "execution_count": 79,
     "metadata": {},
     "output_type": "execute_result"
    }
   ],
   "source": [
    "total.Auditor.nunique()"
   ]
  },
  {
   "cell_type": "code",
   "execution_count": 81,
   "metadata": {},
   "outputs": [],
   "source": [
    "totals= total.groupby(by = [\"Auditor\",\"Hours\"]).Total.sum().to_frame()"
   ]
  },
  {
   "cell_type": "code",
   "execution_count": 82,
   "metadata": {},
   "outputs": [
    {
     "data": {
      "text/html": [
       "<div>\n",
       "<style scoped>\n",
       "    .dataframe tbody tr th:only-of-type {\n",
       "        vertical-align: middle;\n",
       "    }\n",
       "\n",
       "    .dataframe tbody tr th {\n",
       "        vertical-align: top;\n",
       "    }\n",
       "\n",
       "    .dataframe thead th {\n",
       "        text-align: right;\n",
       "    }\n",
       "</style>\n",
       "<table border=\"1\" class=\"dataframe\">\n",
       "  <thead>\n",
       "    <tr style=\"text-align: right;\">\n",
       "      <th></th>\n",
       "      <th></th>\n",
       "      <th>Total</th>\n",
       "    </tr>\n",
       "    <tr>\n",
       "      <th>Auditor</th>\n",
       "      <th>Hours</th>\n",
       "      <th></th>\n",
       "    </tr>\n",
       "  </thead>\n",
       "  <tbody>\n",
       "    <tr>\n",
       "      <th rowspan=\"5\" valign=\"top\">abanerjee03</th>\n",
       "      <th>hour0</th>\n",
       "      <td>7582</td>\n",
       "    </tr>\n",
       "    <tr>\n",
       "      <th>hour1</th>\n",
       "      <td>7582</td>\n",
       "    </tr>\n",
       "    <tr>\n",
       "      <th>hour2</th>\n",
       "      <td>7582</td>\n",
       "    </tr>\n",
       "    <tr>\n",
       "      <th>hour3</th>\n",
       "      <td>7582</td>\n",
       "    </tr>\n",
       "    <tr>\n",
       "      <th>hour4</th>\n",
       "      <td>7582</td>\n",
       "    </tr>\n",
       "    <tr>\n",
       "      <th>...</th>\n",
       "      <th>...</th>\n",
       "      <td>...</td>\n",
       "    </tr>\n",
       "    <tr>\n",
       "      <th rowspan=\"5\" valign=\"top\">vshivakumar</th>\n",
       "      <th>hour5</th>\n",
       "      <td>1750</td>\n",
       "    </tr>\n",
       "    <tr>\n",
       "      <th>hour6</th>\n",
       "      <td>2143</td>\n",
       "    </tr>\n",
       "    <tr>\n",
       "      <th>hour7</th>\n",
       "      <td>2469</td>\n",
       "    </tr>\n",
       "    <tr>\n",
       "      <th>hour8</th>\n",
       "      <td>2469</td>\n",
       "    </tr>\n",
       "    <tr>\n",
       "      <th>hour9</th>\n",
       "      <td>1050</td>\n",
       "    </tr>\n",
       "  </tbody>\n",
       "</table>\n",
       "<p>660 rows × 1 columns</p>\n",
       "</div>"
      ],
      "text/plain": [
       "                   Total\n",
       "Auditor     Hours       \n",
       "abanerjee03 hour0   7582\n",
       "            hour1   7582\n",
       "            hour2   7582\n",
       "            hour3   7582\n",
       "            hour4   7582\n",
       "...                  ...\n",
       "vshivakumar hour5   1750\n",
       "            hour6   2143\n",
       "            hour7   2469\n",
       "            hour8   2469\n",
       "            hour9   1050\n",
       "\n",
       "[660 rows x 1 columns]"
      ]
     },
     "execution_count": 82,
     "metadata": {},
     "output_type": "execute_result"
    }
   ],
   "source": [
    "totals"
   ]
  },
  {
   "cell_type": "code",
   "execution_count": 84,
   "metadata": {},
   "outputs": [],
   "source": [
    "final_count_report = totals.pivot_table(values= \"Total\", index = \"Auditor\", columns= \"Hours\", aggfunc= \"sum\")"
   ]
  },
  {
   "cell_type": "code",
   "execution_count": 86,
   "metadata": {},
   "outputs": [],
   "source": [
    "final_count_report.fillna(value = 0, inplace= True)"
   ]
  },
  {
   "cell_type": "code",
   "execution_count": 89,
   "metadata": {},
   "outputs": [],
   "source": [
    "pd.options.display.max_rows = 70"
   ]
  },
  {
   "cell_type": "code",
   "execution_count": 92,
   "metadata": {},
   "outputs": [],
   "source": [
    "from datetime import date"
   ]
  },
  {
   "cell_type": "code",
   "execution_count": 94,
   "metadata": {},
   "outputs": [],
   "source": [
    "today = date.today()"
   ]
  },
  {
   "cell_type": "code",
   "execution_count": 95,
   "metadata": {},
   "outputs": [
    {
     "data": {
      "text/plain": [
       "datetime.date(2020, 12, 8)"
      ]
     },
     "execution_count": 95,
     "metadata": {},
     "output_type": "execute_result"
    }
   ],
   "source": [
    "today"
   ]
  },
  {
   "cell_type": "code",
   "execution_count": 97,
   "metadata": {},
   "outputs": [],
   "source": [
    "final_count_report.to_excel(f\"Daily_count{today}.xlsx\", index= True)"
   ]
  },
  {
   "cell_type": "code",
   "execution_count": null,
   "metadata": {},
   "outputs": [],
   "source": []
  }
 ],
 "metadata": {
  "kernelspec": {
   "display_name": "Python 3",
   "language": "python",
   "name": "python3"
  },
  "language_info": {
   "codemirror_mode": {
    "name": "ipython",
    "version": 3
   },
   "file_extension": ".py",
   "mimetype": "text/x-python",
   "name": "python",
   "nbconvert_exporter": "python",
   "pygments_lexer": "ipython3",
   "version": "3.8.3"
  }
 },
 "nbformat": 4,
 "nbformat_minor": 4
}
