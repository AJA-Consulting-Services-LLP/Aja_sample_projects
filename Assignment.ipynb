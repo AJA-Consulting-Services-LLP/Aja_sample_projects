{
  "nbformat": 4,
  "nbformat_minor": 0,
  "metadata": {
    "colab": {
      "name": "Assignment.ipynb",
      "provenance": [],
      "toc_visible": true,
      "authorship_tag": "ABX9TyNwWhTL2Yno9elh8enlm0Fx",
      "include_colab_link": true
    },
    "kernelspec": {
      "name": "python3",
      "display_name": "Python 3"
    },
    "language_info": {
      "name": "python"
    }
  },
  "cells": [
    {
      "cell_type": "markdown",
      "metadata": {
        "id": "view-in-github",
        "colab_type": "text"
      },
      "source": [
        "<a href=\"https://colab.research.google.com/github/Indhraneel14inks/my_projects/blob/master/Assignment.ipynb\" target=\"_parent\"><img src=\"https://colab.research.google.com/assets/colab-badge.svg\" alt=\"Open In Colab\"/></a>"
      ]
    },
    {
      "cell_type": "markdown",
      "metadata": {
        "id": "4p4H3Y8EuvgE"
      },
      "source": [
        "#Assignment"
      ]
    },
    {
      "cell_type": "markdown",
      "metadata": {
        "id": "qKsipmg7vkMz"
      },
      "source": [
        "###Importing Libraries"
      ]
    },
    {
      "cell_type": "code",
      "metadata": {
        "id": "oUVvSAPVVBne"
      },
      "source": [
        "import pandas as pd\n",
        "import numpy as np"
      ],
      "execution_count": 1,
      "outputs": []
    },
    {
      "cell_type": "markdown",
      "metadata": {
        "id": "FKkAt8-WvZdr"
      },
      "source": [
        "###Importing file with required columns"
      ]
    },
    {
      "cell_type": "code",
      "metadata": {
        "id": "OvHt-dHQVyKE"
      },
      "source": [
        "file = pd.read_csv(\"Goalies.csv\", usecols=[i for i in range(0,14)])"
      ],
      "execution_count": 2,
      "outputs": []
    },
    {
      "cell_type": "code",
      "metadata": {
        "colab": {
          "base_uri": "https://localhost:8080/",
          "height": 202
        },
        "id": "EBT-2co5bpDp",
        "outputId": "e11b5682-e8a2-4509-9730-82a753c7cc5e"
      },
      "source": [
        "#To get the first five rows of the data\n",
        "file.head()"
      ],
      "execution_count": 3,
      "outputs": [
        {
          "output_type": "execute_result",
          "data": {
            "text/html": [
              "<div>\n",
              "<style scoped>\n",
              "    .dataframe tbody tr th:only-of-type {\n",
              "        vertical-align: middle;\n",
              "    }\n",
              "\n",
              "    .dataframe tbody tr th {\n",
              "        vertical-align: top;\n",
              "    }\n",
              "\n",
              "    .dataframe thead th {\n",
              "        text-align: right;\n",
              "    }\n",
              "</style>\n",
              "<table border=\"1\" class=\"dataframe\">\n",
              "  <thead>\n",
              "    <tr style=\"text-align: right;\">\n",
              "      <th></th>\n",
              "      <th>playerID</th>\n",
              "      <th>year</th>\n",
              "      <th>stint</th>\n",
              "      <th>tmID</th>\n",
              "      <th>lgID</th>\n",
              "      <th>GP</th>\n",
              "      <th>Min</th>\n",
              "      <th>W</th>\n",
              "      <th>L</th>\n",
              "      <th>T/OL</th>\n",
              "      <th>ENG</th>\n",
              "      <th>SHO</th>\n",
              "      <th>GA</th>\n",
              "      <th>SA</th>\n",
              "    </tr>\n",
              "  </thead>\n",
              "  <tbody>\n",
              "    <tr>\n",
              "      <th>0</th>\n",
              "      <td>abbotge01</td>\n",
              "      <td>1943</td>\n",
              "      <td>1</td>\n",
              "      <td>BOS</td>\n",
              "      <td>NHL</td>\n",
              "      <td>1.0</td>\n",
              "      <td>60.0</td>\n",
              "      <td>0.0</td>\n",
              "      <td>1.0</td>\n",
              "      <td>0.0</td>\n",
              "      <td>NaN</td>\n",
              "      <td>0.0</td>\n",
              "      <td>7.0</td>\n",
              "      <td>NaN</td>\n",
              "    </tr>\n",
              "    <tr>\n",
              "      <th>1</th>\n",
              "      <td>abrahch01</td>\n",
              "      <td>1974</td>\n",
              "      <td>1</td>\n",
              "      <td>NEW</td>\n",
              "      <td>WHA</td>\n",
              "      <td>16.0</td>\n",
              "      <td>870.0</td>\n",
              "      <td>8.0</td>\n",
              "      <td>6.0</td>\n",
              "      <td>1.0</td>\n",
              "      <td>0.0</td>\n",
              "      <td>1.0</td>\n",
              "      <td>47.0</td>\n",
              "      <td>504.0</td>\n",
              "    </tr>\n",
              "    <tr>\n",
              "      <th>2</th>\n",
              "      <td>abrahch01</td>\n",
              "      <td>1975</td>\n",
              "      <td>1</td>\n",
              "      <td>NEW</td>\n",
              "      <td>WHA</td>\n",
              "      <td>41.0</td>\n",
              "      <td>2385.0</td>\n",
              "      <td>18.0</td>\n",
              "      <td>18.0</td>\n",
              "      <td>2.0</td>\n",
              "      <td>1.0</td>\n",
              "      <td>2.0</td>\n",
              "      <td>136.0</td>\n",
              "      <td>1221.0</td>\n",
              "    </tr>\n",
              "    <tr>\n",
              "      <th>3</th>\n",
              "      <td>abrahch01</td>\n",
              "      <td>1976</td>\n",
              "      <td>1</td>\n",
              "      <td>NEW</td>\n",
              "      <td>WHA</td>\n",
              "      <td>45.0</td>\n",
              "      <td>2484.0</td>\n",
              "      <td>15.0</td>\n",
              "      <td>22.0</td>\n",
              "      <td>4.0</td>\n",
              "      <td>0.0</td>\n",
              "      <td>0.0</td>\n",
              "      <td>159.0</td>\n",
              "      <td>1438.0</td>\n",
              "    </tr>\n",
              "    <tr>\n",
              "      <th>4</th>\n",
              "      <td>adamsjo02</td>\n",
              "      <td>1972</td>\n",
              "      <td>1</td>\n",
              "      <td>BOS</td>\n",
              "      <td>NHL</td>\n",
              "      <td>14.0</td>\n",
              "      <td>780.0</td>\n",
              "      <td>9.0</td>\n",
              "      <td>3.0</td>\n",
              "      <td>1.0</td>\n",
              "      <td>0.0</td>\n",
              "      <td>1.0</td>\n",
              "      <td>39.0</td>\n",
              "      <td>NaN</td>\n",
              "    </tr>\n",
              "  </tbody>\n",
              "</table>\n",
              "</div>"
            ],
            "text/plain": [
              "    playerID  year  stint tmID lgID    GP  ...     L  T/OL  ENG  SHO     GA      SA\n",
              "0  abbotge01  1943      1  BOS  NHL   1.0  ...   1.0   0.0  NaN  0.0    7.0     NaN\n",
              "1  abrahch01  1974      1  NEW  WHA  16.0  ...   6.0   1.0  0.0  1.0   47.0   504.0\n",
              "2  abrahch01  1975      1  NEW  WHA  41.0  ...  18.0   2.0  1.0  2.0  136.0  1221.0\n",
              "3  abrahch01  1976      1  NEW  WHA  45.0  ...  22.0   4.0  0.0  0.0  159.0  1438.0\n",
              "4  adamsjo02  1972      1  BOS  NHL  14.0  ...   3.0   1.0  0.0  1.0   39.0     NaN\n",
              "\n",
              "[5 rows x 14 columns]"
            ]
          },
          "metadata": {
            "tags": []
          },
          "execution_count": 3
        }
      ]
    },
    {
      "cell_type": "code",
      "metadata": {
        "colab": {
          "base_uri": "https://localhost:8080/"
        },
        "id": "WV1ncVgujAIS",
        "outputId": "7a5bc91a-c4c7-40e8-eda2-aeb6aac146ac"
      },
      "source": [
        "# To get the metadata of the data\n",
        "file.info()"
      ],
      "execution_count": 4,
      "outputs": [
        {
          "output_type": "stream",
          "text": [
            "<class 'pandas.core.frame.DataFrame'>\n",
            "RangeIndex: 4278 entries, 0 to 4277\n",
            "Data columns (total 14 columns):\n",
            " #   Column    Non-Null Count  Dtype  \n",
            "---  ------    --------------  -----  \n",
            " 0   playerID  4278 non-null   object \n",
            " 1   year      4278 non-null   int64  \n",
            " 2   stint     4278 non-null   int64  \n",
            " 3   tmID      4278 non-null   object \n",
            " 4   lgID      4278 non-null   object \n",
            " 5   GP        4257 non-null   float64\n",
            " 6   Min       4257 non-null   float64\n",
            " 7   W         4257 non-null   float64\n",
            " 8   L         4257 non-null   float64\n",
            " 9   T/OL      4257 non-null   float64\n",
            " 10  ENG       3533 non-null   float64\n",
            " 11  SHO       4257 non-null   float64\n",
            " 12  GA        4257 non-null   float64\n",
            " 13  SA        2685 non-null   float64\n",
            "dtypes: float64(9), int64(2), object(3)\n",
            "memory usage: 468.0+ KB\n"
          ],
          "name": "stdout"
        }
      ]
    },
    {
      "cell_type": "code",
      "metadata": {
        "colab": {
          "base_uri": "https://localhost:8080/"
        },
        "id": "tFfyG0U-xWL8",
        "outputId": "05e36b10-dfad-4db8-cf77-227f886e5799"
      },
      "source": [
        "file[\"tmID\"].astype(\"str\")"
      ],
      "execution_count": 5,
      "outputs": [
        {
          "output_type": "execute_result",
          "data": {
            "text/plain": [
              "0       BOS\n",
              "1       NEW\n",
              "2       NEW\n",
              "3       NEW\n",
              "4       BOS\n",
              "       ... \n",
              "4273    PIT\n",
              "4274    NYR\n",
              "4275    EDM\n",
              "4276    DOT\n",
              "4277    HOU\n",
              "Name: tmID, Length: 4278, dtype: object"
            ]
          },
          "metadata": {
            "tags": []
          },
          "execution_count": 5
        }
      ]
    },
    {
      "cell_type": "code",
      "metadata": {
        "colab": {
          "base_uri": "https://localhost:8080/"
        },
        "id": "zNd2DEFJxWjO",
        "outputId": "c9f43ad7-e08a-4ee9-824d-3d4ac85a5f6c"
      },
      "source": [
        "#Datatype of the tmID column\n",
        "type(file[\"tmID\"][0])"
      ],
      "execution_count": 6,
      "outputs": [
        {
          "output_type": "execute_result",
          "data": {
            "text/plain": [
              "str"
            ]
          },
          "metadata": {
            "tags": []
          },
          "execution_count": 6
        }
      ]
    },
    {
      "cell_type": "code",
      "metadata": {
        "id": "kk-OwjdglHGR"
      },
      "source": [
        "#Aggregation of total no of wins\n",
        "Wins_agg = file[\"W\"].sum()/file[\"playerID\"].nunique()"
      ],
      "execution_count": 7,
      "outputs": []
    },
    {
      "cell_type": "code",
      "metadata": {
        "colab": {
          "base_uri": "https://localhost:8080/"
        },
        "id": "2Xdy7EZdmcxL",
        "outputId": "9909e597-cf9c-4d7b-f317-31bf35928604"
      },
      "source": [
        "Wins_agg"
      ],
      "execution_count": 8,
      "outputs": [
        {
          "output_type": "execute_result",
          "data": {
            "text/plain": [
              "59.506345177664976"
            ]
          },
          "metadata": {
            "tags": []
          },
          "execution_count": 8
        }
      ]
    },
    {
      "cell_type": "code",
      "metadata": {
        "id": "FZdL9pnJmwlr"
      },
      "source": [
        "#Aggregation of total no of Losses\n",
        "Losses_agg = file[\"L\"].sum()/file[\"playerID\"].nunique()"
      ],
      "execution_count": 9,
      "outputs": []
    },
    {
      "cell_type": "code",
      "metadata": {
        "colab": {
          "base_uri": "https://localhost:8080/"
        },
        "id": "qJNL-i7jnDz1",
        "outputId": "a70f9033-d196-4d66-cfaf-261a8c7a4c73"
      },
      "source": [
        "Losses_agg"
      ],
      "execution_count": 10,
      "outputs": [
        {
          "output_type": "execute_result",
          "data": {
            "text/plain": [
              "56.9505076142132"
            ]
          },
          "metadata": {
            "tags": []
          },
          "execution_count": 10
        }
      ]
    },
    {
      "cell_type": "code",
      "metadata": {
        "id": "dti84kcPnFVm"
      },
      "source": [
        "#Aggregation of total no of Games played\n",
        "GP_agg = file[\"GP\"].sum()/ file[\"playerID\"].nunique()"
      ],
      "execution_count": 11,
      "outputs": []
    },
    {
      "cell_type": "code",
      "metadata": {
        "colab": {
          "base_uri": "https://localhost:8080/"
        },
        "id": "l_azRA_8nrBv",
        "outputId": "d4768b16-e2c9-46b7-ea29-d52c1050a381"
      },
      "source": [
        "GP_agg"
      ],
      "execution_count": 12,
      "outputs": [
        {
          "output_type": "execute_result",
          "data": {
            "text/plain": [
              "143.4555837563452"
            ]
          },
          "metadata": {
            "tags": []
          },
          "execution_count": 12
        }
      ]
    },
    {
      "cell_type": "code",
      "metadata": {
        "id": "mZolo8gensfO"
      },
      "source": [
        "#total minutes played / total goals against\n",
        "Mins_over_GA_agg = file[\"Min\"].sum()/ file[\"GA\"].sum()"
      ],
      "execution_count": 13,
      "outputs": []
    },
    {
      "cell_type": "code",
      "metadata": {
        "colab": {
          "base_uri": "https://localhost:8080/"
        },
        "id": "Abp3fqZFojFm",
        "outputId": "bd64f485-46a8-4f81-a9b3-185c204671f3"
      },
      "source": [
        "Mins_over_GA_agg"
      ],
      "execution_count": 14,
      "outputs": [
        {
          "output_type": "execute_result",
          "data": {
            "text/plain": [
              "19.6711595602665"
            ]
          },
          "metadata": {
            "tags": []
          },
          "execution_count": 14
        }
      ]
    },
    {
      "cell_type": "code",
      "metadata": {
        "id": "o62zS570ok1o"
      },
      "source": [
        "#total goals against / total shots against\n",
        "GA_over_SA_agg = file[\"GA\"].sum()/ file[\"SA\"].sum()"
      ],
      "execution_count": 15,
      "outputs": []
    },
    {
      "cell_type": "code",
      "metadata": {
        "colab": {
          "base_uri": "https://localhost:8080/"
        },
        "id": "CMq_lorPpFdJ",
        "outputId": "38f5099e-1056-4c38-c78e-6397aab90f37"
      },
      "source": [
        "GA_over_SA_agg"
      ],
      "execution_count": 16,
      "outputs": [
        {
          "output_type": "execute_result",
          "data": {
            "text/plain": [
              "0.16480029928114737"
            ]
          },
          "metadata": {
            "tags": []
          },
          "execution_count": 16
        }
      ]
    },
    {
      "cell_type": "code",
      "metadata": {
        "id": "JU-wpP5bo-J1"
      },
      "source": [
        "#calculate the percentage of games won for each player, then take the mean at team level\n",
        "avg_percentage_wins = file[\"W\"].groupby(by = file[\"playerID\"]).mean()"
      ],
      "execution_count": 17,
      "outputs": []
    },
    {
      "cell_type": "code",
      "metadata": {
        "colab": {
          "base_uri": "https://localhost:8080/"
        },
        "id": "HpAfikzapczl",
        "outputId": "9416ef07-8ac6-4edb-ac25-1fabb8ffbac9"
      },
      "source": [
        "avg_percentage_wins.sort_values(ascending= False)"
      ],
      "execution_count": 18,
      "outputs": [
        {
          "output_type": "execute_result",
          "data": {
            "text/plain": [
              "playerID\n",
              "lundqhe01    36.000000\n",
              "brodema01    34.526316\n",
              "drydeke01    32.250000\n",
              "durnabi01    29.714286\n",
              "wardca01     29.285714\n",
              "               ...    \n",
              "cowlewa01     0.000000\n",
              "mcvicro01     0.000000\n",
              "abbotge01     0.000000\n",
              "allenbr01          NaN\n",
              "coolega01          NaN\n",
              "Name: W, Length: 788, dtype: float64"
            ]
          },
          "metadata": {
            "tags": []
          },
          "execution_count": 18
        }
      ]
    },
    {
      "cell_type": "code",
      "metadata": {
        "colab": {
          "base_uri": "https://localhost:8080/"
        },
        "id": "iUkRAgLbqqAT",
        "outputId": "e2aec35d-9361-47d4-f22b-e88a8808caca"
      },
      "source": [
        "#calculate goals stopped per player, then take the player with the max goals\n",
        "#stopped and put the details in the dictionary\n",
        "file[\"SHO\"].groupby(by = file[\"playerID\"]).sum().sort_values(ascending = False)"
      ],
      "execution_count": 19,
      "outputs": [
        {
          "output_type": "execute_result",
          "data": {
            "text/plain": [
              "playerID\n",
              "brodema01    119.0\n",
              "hainsge01    104.0\n",
              "sawchte01    103.0\n",
              "hallgl01      84.0\n",
              "plantja01     83.0\n",
              "             ...  \n",
              "littmda01      0.0\n",
              "lorenda01      0.0\n",
              "loustro01      0.0\n",
              "lozinla01      0.0\n",
              "abbotge01      0.0\n",
              "Name: SHO, Length: 788, dtype: float64"
            ]
          },
          "metadata": {
            "tags": []
          },
          "execution_count": 19
        }
      ]
    },
    {
      "cell_type": "code",
      "metadata": {
        "id": "3ksbnFiSoxYv"
      },
      "source": [
        "most_goals_stopped = {'playerID': 'brodema01', 'goals_stopped': 119}"
      ],
      "execution_count": 20,
      "outputs": []
    },
    {
      "cell_type": "code",
      "metadata": {
        "id": "5eYWdRp5tCZG"
      },
      "source": [
        "#calculate the goals stopped per minutes of play for each player, then take the\n",
        "#player with the max efficiency just calculated and put the details in the dictionary\n",
        "file[\"efficiency\"] = file[\"SHO\"]/file[\"Min\"]"
      ],
      "execution_count": 21,
      "outputs": []
    },
    {
      "cell_type": "code",
      "metadata": {
        "colab": {
          "base_uri": "https://localhost:8080/",
          "height": 202
        },
        "id": "wJduCadjtf0m",
        "outputId": "15c93216-72e3-4208-8428-f898e6125e52"
      },
      "source": [
        "file.head()"
      ],
      "execution_count": 22,
      "outputs": [
        {
          "output_type": "execute_result",
          "data": {
            "text/html": [
              "<div>\n",
              "<style scoped>\n",
              "    .dataframe tbody tr th:only-of-type {\n",
              "        vertical-align: middle;\n",
              "    }\n",
              "\n",
              "    .dataframe tbody tr th {\n",
              "        vertical-align: top;\n",
              "    }\n",
              "\n",
              "    .dataframe thead th {\n",
              "        text-align: right;\n",
              "    }\n",
              "</style>\n",
              "<table border=\"1\" class=\"dataframe\">\n",
              "  <thead>\n",
              "    <tr style=\"text-align: right;\">\n",
              "      <th></th>\n",
              "      <th>playerID</th>\n",
              "      <th>year</th>\n",
              "      <th>stint</th>\n",
              "      <th>tmID</th>\n",
              "      <th>lgID</th>\n",
              "      <th>GP</th>\n",
              "      <th>Min</th>\n",
              "      <th>W</th>\n",
              "      <th>L</th>\n",
              "      <th>T/OL</th>\n",
              "      <th>ENG</th>\n",
              "      <th>SHO</th>\n",
              "      <th>GA</th>\n",
              "      <th>SA</th>\n",
              "      <th>efficiency</th>\n",
              "    </tr>\n",
              "  </thead>\n",
              "  <tbody>\n",
              "    <tr>\n",
              "      <th>0</th>\n",
              "      <td>abbotge01</td>\n",
              "      <td>1943</td>\n",
              "      <td>1</td>\n",
              "      <td>BOS</td>\n",
              "      <td>NHL</td>\n",
              "      <td>1.0</td>\n",
              "      <td>60.0</td>\n",
              "      <td>0.0</td>\n",
              "      <td>1.0</td>\n",
              "      <td>0.0</td>\n",
              "      <td>NaN</td>\n",
              "      <td>0.0</td>\n",
              "      <td>7.0</td>\n",
              "      <td>NaN</td>\n",
              "      <td>0.000000</td>\n",
              "    </tr>\n",
              "    <tr>\n",
              "      <th>1</th>\n",
              "      <td>abrahch01</td>\n",
              "      <td>1974</td>\n",
              "      <td>1</td>\n",
              "      <td>NEW</td>\n",
              "      <td>WHA</td>\n",
              "      <td>16.0</td>\n",
              "      <td>870.0</td>\n",
              "      <td>8.0</td>\n",
              "      <td>6.0</td>\n",
              "      <td>1.0</td>\n",
              "      <td>0.0</td>\n",
              "      <td>1.0</td>\n",
              "      <td>47.0</td>\n",
              "      <td>504.0</td>\n",
              "      <td>0.001149</td>\n",
              "    </tr>\n",
              "    <tr>\n",
              "      <th>2</th>\n",
              "      <td>abrahch01</td>\n",
              "      <td>1975</td>\n",
              "      <td>1</td>\n",
              "      <td>NEW</td>\n",
              "      <td>WHA</td>\n",
              "      <td>41.0</td>\n",
              "      <td>2385.0</td>\n",
              "      <td>18.0</td>\n",
              "      <td>18.0</td>\n",
              "      <td>2.0</td>\n",
              "      <td>1.0</td>\n",
              "      <td>2.0</td>\n",
              "      <td>136.0</td>\n",
              "      <td>1221.0</td>\n",
              "      <td>0.000839</td>\n",
              "    </tr>\n",
              "    <tr>\n",
              "      <th>3</th>\n",
              "      <td>abrahch01</td>\n",
              "      <td>1976</td>\n",
              "      <td>1</td>\n",
              "      <td>NEW</td>\n",
              "      <td>WHA</td>\n",
              "      <td>45.0</td>\n",
              "      <td>2484.0</td>\n",
              "      <td>15.0</td>\n",
              "      <td>22.0</td>\n",
              "      <td>4.0</td>\n",
              "      <td>0.0</td>\n",
              "      <td>0.0</td>\n",
              "      <td>159.0</td>\n",
              "      <td>1438.0</td>\n",
              "      <td>0.000000</td>\n",
              "    </tr>\n",
              "    <tr>\n",
              "      <th>4</th>\n",
              "      <td>adamsjo02</td>\n",
              "      <td>1972</td>\n",
              "      <td>1</td>\n",
              "      <td>BOS</td>\n",
              "      <td>NHL</td>\n",
              "      <td>14.0</td>\n",
              "      <td>780.0</td>\n",
              "      <td>9.0</td>\n",
              "      <td>3.0</td>\n",
              "      <td>1.0</td>\n",
              "      <td>0.0</td>\n",
              "      <td>1.0</td>\n",
              "      <td>39.0</td>\n",
              "      <td>NaN</td>\n",
              "      <td>0.001282</td>\n",
              "    </tr>\n",
              "  </tbody>\n",
              "</table>\n",
              "</div>"
            ],
            "text/plain": [
              "    playerID  year  stint tmID lgID  ...  ENG  SHO     GA      SA  efficiency\n",
              "0  abbotge01  1943      1  BOS  NHL  ...  NaN  0.0    7.0     NaN    0.000000\n",
              "1  abrahch01  1974      1  NEW  WHA  ...  0.0  1.0   47.0   504.0    0.001149\n",
              "2  abrahch01  1975      1  NEW  WHA  ...  1.0  2.0  136.0  1221.0    0.000839\n",
              "3  abrahch01  1976      1  NEW  WHA  ...  0.0  0.0  159.0  1438.0    0.000000\n",
              "4  adamsjo02  1972      1  BOS  NHL  ...  0.0  1.0   39.0     NaN    0.001282\n",
              "\n",
              "[5 rows x 15 columns]"
            ]
          },
          "metadata": {
            "tags": []
          },
          "execution_count": 22
        }
      ]
    },
    {
      "cell_type": "code",
      "metadata": {
        "colab": {
          "base_uri": "https://localhost:8080/"
        },
        "id": "2BG0Jv32sAR6",
        "outputId": "b56eb6bc-d410-42be-939f-7f08688f41d7"
      },
      "source": [
        "file[\"efficiency\"].groupby(by = file[\"playerID\"]).sum().sort_values(ascending = False)"
      ],
      "execution_count": 23,
      "outputs": [
        {
          "output_type": "execute_result",
          "data": {
            "text/plain": [
              "playerID\n",
              "hainsge01    0.038758\n",
              "benedcl01    0.035943\n",
              "plantja01    0.034723\n",
              "sawchte01    0.034326\n",
              "cudewi01     0.034293\n",
              "               ...   \n",
              "littmda01    0.000000\n",
              "lorenda01    0.000000\n",
              "loustro01    0.000000\n",
              "lozinla01    0.000000\n",
              "abbotge01    0.000000\n",
              "Name: efficiency, Length: 788, dtype: float64"
            ]
          },
          "metadata": {
            "tags": []
          },
          "execution_count": 23
        }
      ]
    },
    {
      "cell_type": "code",
      "metadata": {
        "id": "o9v4IzaorwLQ"
      },
      "source": [
        "most_efficient_player = {'playerID': 'hainsge01', 'efficiency': 0.038758}"
      ],
      "execution_count": 24,
      "outputs": []
    },
    {
      "cell_type": "code",
      "metadata": {
        "id": "QiDO5M2kuKkS"
      },
      "source": [
        ""
      ],
      "execution_count": null,
      "outputs": []
    }
  ]
}