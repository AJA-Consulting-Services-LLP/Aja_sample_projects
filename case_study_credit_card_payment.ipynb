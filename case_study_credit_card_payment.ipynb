{
  "nbformat": 4,
  "nbformat_minor": 0,
  "metadata": {
    "kernelspec": {
      "display_name": "Python 3",
      "language": "python",
      "name": "python3"
    },
    "language_info": {
      "codemirror_mode": {
        "name": "ipython",
        "version": 3
      },
      "file_extension": ".py",
      "mimetype": "text/x-python",
      "name": "python",
      "nbconvert_exporter": "python",
      "pygments_lexer": "ipython3",
      "version": "3.7.3"
    },
    "colab": {
      "name": "Case Study - Credit Card Payment.ipynb",
      "provenance": []
    }
  },
  "cells": [
    {
      "cell_type": "markdown",
      "metadata": {
        "id": "9Rm0wovBdxhn"
      },
      "source": [
        "<h2><u>Machine Learning And NLP</u></h2>\n",
        "\n",
        "# Case Study - Credit Card Payment\n"
      ]
    },
    {
      "cell_type": "markdown",
      "metadata": {
        "id": "bseIbbYndxhp"
      },
      "source": [
        "In this case study, you will apply various classification algorithms to predict the payment for credit card for next month is defaulted or not."
      ]
    },
    {
      "cell_type": "markdown",
      "metadata": {
        "id": "kVj0mu9cdxhq"
      },
      "source": [
        "---"
      ]
    },
    {
      "cell_type": "markdown",
      "metadata": {
        "id": "IKgP71vddxhq"
      },
      "source": [
        "##### Scenario:\n",
        "\n",
        "multinational bank offers a wide range of financial services including credit card service.\n",
        "\n",
        "##### Challenge:\n",
        "\n",
        "The bank is facing issues in tracking the regular payment of credit card thereby leading to increase in the involvement of their assets. You, as a Data Scientist have to create a model to predict the customers who will default for the next month.\n",
        "\n",
        "##### Dataset:\n",
        "\n",
        "\n",
        "The company has information on 15000 customers. The dataset contains information on 25 variables, including demographic factors, credit data, history of payment, and bill statements of credit card customers from April 2005 to September 2005 and the information whether the customer will default payment for the next month or not?\n",
        "The description of the columns is as given below:\n",
        "\n",
        "- __ID__: ID of each customer\n",
        "- __LIMIT_BAL__: Amount of given credit in NT dollars (includes individual and family/supplementary credit\n",
        "- __SEX__: Gender (1=male, 2=female)\n",
        "- __EDUCATION__: (1=graduate school, 2=university, 3=high school, 4=others, 5=unknown, 6=unknown)\n",
        "- __MARRIAGE__: Marital status (1=married, 2=single, 3=others)\n",
        "- __AGE__: Age in years\n",
        "- __PAY_0__: Repayment status in September, 2005 (-1=pay duly, 1=payment delay for one month, 2=payment delay for two months, ... 8=payment delay for eight months, 9=payment delay for nine months and above)\n",
        "- __PAY_2__: Repayment status in August, 2005 (scale same as above)\n",
        "- __PAY_3__: Repayment status in July, 2005 (scale same as above)\n",
        "- __PAY_4__: Repayment status in June, 2005 (scale same as above)\n",
        "- __PAY_5__: Repayment status in May, 2005 (scale same as above)\n",
        "- __PAY_6__: Repayment status in April, 2005 (scale same as above)\n",
        "- __BILL_AMT1__: Amount of bill statement in September, 2005 (NT dollar)\n",
        "- __BILL_AMT2__: Amount of bill statement in August, 2005 (NT dollar)\n",
        "- __BILL_AMT3__: Amount of bill statement in July, 2005 (NT dollar)\n",
        "- __BILL_AMT4__: Amount of bill statement in June, 2005 (NT dollar)\n",
        "- __BILL_AMT5__: Amount of bill statement in May, 2005 (NT dollar)\n",
        "- __BILL_AMT6__: Amount of bill statement in April, 2005 (NT dollar)\n",
        "- __PAY_AMT1__: Amount of previous payment in September, 2005 (NT dollar)\n",
        "- __PAY_AMT2__: Amount of previous payment in August, 2005 (NT dollar)\n",
        "- __PAY_AMT3__: Amount of previous payment in July, 2005 (NT dollar)\n",
        "- __PAY_AMT4__: Amount of previous payment in June, 2005 (NT dollar)\n",
        "- __PAY_AMT5__: Amount of previous payment in May, 2005 (NT dollar)\n",
        "- __PAY_AMT6__: Amount of previous payment in April, 2005 (NT dollar)\n",
        "- __default.payment.next.month__: Default payment (1=yes, 0=no)"
      ]
    },
    {
      "cell_type": "markdown",
      "metadata": {
        "id": "aLmO2Z3ReG6V"
      },
      "source": [
        "## Loading the Dataset"
      ]
    },
    {
      "cell_type": "code",
      "metadata": {
        "id": "i2CRuHp5eGp3"
      },
      "source": [
        "!wget https://www.dropbox.com/s/kdwhzht0nmuczo7/UCI_Credit_Card.csv -q"
      ],
      "execution_count": 1,
      "outputs": []
    },
    {
      "cell_type": "markdown",
      "metadata": {
        "id": "gdiF-koXdxhr"
      },
      "source": [
        "- ### Load Required Libraries"
      ]
    },
    {
      "cell_type": "code",
      "metadata": {
        "colab": {
          "base_uri": "https://localhost:8080/"
        },
        "id": "v35iWmTDdxhs",
        "outputId": "4646ee32-7a1e-497c-d2ff-91b1ed05a8ac"
      },
      "source": [
        "!pip install imblearn"
      ],
      "execution_count": 2,
      "outputs": [
        {
          "output_type": "stream",
          "text": [
            "Requirement already satisfied: imblearn in /usr/local/lib/python3.6/dist-packages (0.0)\n",
            "Requirement already satisfied: imbalanced-learn in /usr/local/lib/python3.6/dist-packages (from imblearn) (0.4.3)\n",
            "Requirement already satisfied: numpy>=1.8.2 in /usr/local/lib/python3.6/dist-packages (from imbalanced-learn->imblearn) (1.19.5)\n",
            "Requirement already satisfied: scikit-learn>=0.20 in /usr/local/lib/python3.6/dist-packages (from imbalanced-learn->imblearn) (0.22.2.post1)\n",
            "Requirement already satisfied: scipy>=0.13.3 in /usr/local/lib/python3.6/dist-packages (from imbalanced-learn->imblearn) (1.4.1)\n",
            "Requirement already satisfied: joblib>=0.11 in /usr/local/lib/python3.6/dist-packages (from scikit-learn>=0.20->imbalanced-learn->imblearn) (1.0.0)\n"
          ],
          "name": "stdout"
        }
      ]
    },
    {
      "cell_type": "code",
      "metadata": {
        "id": "qLWIFHAZdxhs"
      },
      "source": [
        "import pandas as pd\n",
        "import numpy as np\n",
        "import matplotlib.pyplot as plt\n",
        "import seaborn as sns\n",
        "import warnings # to ignore warning\n",
        "warnings.filterwarnings(\"ignore\", category=DeprecationWarning)\n",
        "warnings.filterwarnings(\"ignore\", category=FutureWarning)\n",
        "%matplotlib inline"
      ],
      "execution_count": 3,
      "outputs": []
    },
    {
      "cell_type": "markdown",
      "metadata": {
        "id": "wONv-mIVdxht"
      },
      "source": [
        "- ### Load and analyse data\n",
        "\n",
        "        - Load the data from the required location into a DataFrame\n",
        "        - Analyse the shape of the data by printing its total number of rows & columns\n",
        "        - Also print 5 rows of the DataFrame"
      ]
    },
    {
      "cell_type": "code",
      "metadata": {
        "id": "uuenVdNtdxht"
      },
      "source": [
        "credit = pd.read_csv(\"UCI_Credit_Card.csv\")"
      ],
      "execution_count": 4,
      "outputs": []
    },
    {
      "cell_type": "code",
      "metadata": {
        "colab": {
          "base_uri": "https://localhost:8080/"
        },
        "id": "3dF7nuIZdxht",
        "outputId": "bd22803d-9b7c-4164-f0b5-04d35ec1a845"
      },
      "source": [
        "credit.shape"
      ],
      "execution_count": 5,
      "outputs": [
        {
          "output_type": "execute_result",
          "data": {
            "text/plain": [
              "(15000, 25)"
            ]
          },
          "metadata": {
            "tags": []
          },
          "execution_count": 5
        }
      ]
    },
    {
      "cell_type": "code",
      "metadata": {
        "colab": {
          "base_uri": "https://localhost:8080/",
          "height": 224
        },
        "id": "ut_xv_ifdxhu",
        "outputId": "d6814097-0289-4d00-ef56-e8aac4097b63"
      },
      "source": [
        "credit.head() ### Glimpse of the data"
      ],
      "execution_count": 6,
      "outputs": [
        {
          "output_type": "execute_result",
          "data": {
            "text/html": [
              "<div>\n",
              "<style scoped>\n",
              "    .dataframe tbody tr th:only-of-type {\n",
              "        vertical-align: middle;\n",
              "    }\n",
              "\n",
              "    .dataframe tbody tr th {\n",
              "        vertical-align: top;\n",
              "    }\n",
              "\n",
              "    .dataframe thead th {\n",
              "        text-align: right;\n",
              "    }\n",
              "</style>\n",
              "<table border=\"1\" class=\"dataframe\">\n",
              "  <thead>\n",
              "    <tr style=\"text-align: right;\">\n",
              "      <th></th>\n",
              "      <th>ID</th>\n",
              "      <th>LIMIT_BAL</th>\n",
              "      <th>SEX</th>\n",
              "      <th>EDUCATION</th>\n",
              "      <th>MARRIAGE</th>\n",
              "      <th>AGE</th>\n",
              "      <th>PAY_0</th>\n",
              "      <th>PAY_2</th>\n",
              "      <th>PAY_3</th>\n",
              "      <th>PAY_4</th>\n",
              "      <th>PAY_5</th>\n",
              "      <th>PAY_6</th>\n",
              "      <th>BILL_AMT1</th>\n",
              "      <th>BILL_AMT2</th>\n",
              "      <th>BILL_AMT3</th>\n",
              "      <th>BILL_AMT4</th>\n",
              "      <th>BILL_AMT5</th>\n",
              "      <th>BILL_AMT6</th>\n",
              "      <th>PAY_AMT1</th>\n",
              "      <th>PAY_AMT2</th>\n",
              "      <th>PAY_AMT3</th>\n",
              "      <th>PAY_AMT4</th>\n",
              "      <th>PAY_AMT5</th>\n",
              "      <th>PAY_AMT6</th>\n",
              "      <th>default.payment.next.month</th>\n",
              "    </tr>\n",
              "  </thead>\n",
              "  <tbody>\n",
              "    <tr>\n",
              "      <th>0</th>\n",
              "      <td>2</td>\n",
              "      <td>120000.0</td>\n",
              "      <td>2</td>\n",
              "      <td>2</td>\n",
              "      <td>2</td>\n",
              "      <td>26</td>\n",
              "      <td>-1</td>\n",
              "      <td>2</td>\n",
              "      <td>0</td>\n",
              "      <td>0</td>\n",
              "      <td>0</td>\n",
              "      <td>2</td>\n",
              "      <td>2682.0</td>\n",
              "      <td>1725.0</td>\n",
              "      <td>2682.0</td>\n",
              "      <td>3272.0</td>\n",
              "      <td>3455.0</td>\n",
              "      <td>3261.0</td>\n",
              "      <td>0.0</td>\n",
              "      <td>1000.0</td>\n",
              "      <td>1000.0</td>\n",
              "      <td>1000.0</td>\n",
              "      <td>0.0</td>\n",
              "      <td>2000.0</td>\n",
              "      <td>1</td>\n",
              "    </tr>\n",
              "    <tr>\n",
              "      <th>1</th>\n",
              "      <td>4</td>\n",
              "      <td>50000.0</td>\n",
              "      <td>2</td>\n",
              "      <td>2</td>\n",
              "      <td>1</td>\n",
              "      <td>37</td>\n",
              "      <td>0</td>\n",
              "      <td>0</td>\n",
              "      <td>0</td>\n",
              "      <td>0</td>\n",
              "      <td>0</td>\n",
              "      <td>0</td>\n",
              "      <td>46990.0</td>\n",
              "      <td>48233.0</td>\n",
              "      <td>49291.0</td>\n",
              "      <td>28314.0</td>\n",
              "      <td>28959.0</td>\n",
              "      <td>29547.0</td>\n",
              "      <td>2000.0</td>\n",
              "      <td>2019.0</td>\n",
              "      <td>1200.0</td>\n",
              "      <td>1100.0</td>\n",
              "      <td>1069.0</td>\n",
              "      <td>1000.0</td>\n",
              "      <td>0</td>\n",
              "    </tr>\n",
              "    <tr>\n",
              "      <th>2</th>\n",
              "      <td>6</td>\n",
              "      <td>50000.0</td>\n",
              "      <td>1</td>\n",
              "      <td>1</td>\n",
              "      <td>2</td>\n",
              "      <td>37</td>\n",
              "      <td>0</td>\n",
              "      <td>0</td>\n",
              "      <td>0</td>\n",
              "      <td>0</td>\n",
              "      <td>0</td>\n",
              "      <td>0</td>\n",
              "      <td>64400.0</td>\n",
              "      <td>57069.0</td>\n",
              "      <td>57608.0</td>\n",
              "      <td>19394.0</td>\n",
              "      <td>19619.0</td>\n",
              "      <td>20024.0</td>\n",
              "      <td>2500.0</td>\n",
              "      <td>1815.0</td>\n",
              "      <td>657.0</td>\n",
              "      <td>1000.0</td>\n",
              "      <td>1000.0</td>\n",
              "      <td>800.0</td>\n",
              "      <td>0</td>\n",
              "    </tr>\n",
              "    <tr>\n",
              "      <th>3</th>\n",
              "      <td>8</td>\n",
              "      <td>100000.0</td>\n",
              "      <td>2</td>\n",
              "      <td>2</td>\n",
              "      <td>2</td>\n",
              "      <td>23</td>\n",
              "      <td>0</td>\n",
              "      <td>-1</td>\n",
              "      <td>-1</td>\n",
              "      <td>0</td>\n",
              "      <td>0</td>\n",
              "      <td>-1</td>\n",
              "      <td>11876.0</td>\n",
              "      <td>380.0</td>\n",
              "      <td>601.0</td>\n",
              "      <td>221.0</td>\n",
              "      <td>-159.0</td>\n",
              "      <td>567.0</td>\n",
              "      <td>380.0</td>\n",
              "      <td>601.0</td>\n",
              "      <td>0.0</td>\n",
              "      <td>581.0</td>\n",
              "      <td>1687.0</td>\n",
              "      <td>1542.0</td>\n",
              "      <td>0</td>\n",
              "    </tr>\n",
              "    <tr>\n",
              "      <th>4</th>\n",
              "      <td>10</td>\n",
              "      <td>20000.0</td>\n",
              "      <td>1</td>\n",
              "      <td>3</td>\n",
              "      <td>2</td>\n",
              "      <td>35</td>\n",
              "      <td>-2</td>\n",
              "      <td>-2</td>\n",
              "      <td>-2</td>\n",
              "      <td>-2</td>\n",
              "      <td>-1</td>\n",
              "      <td>-1</td>\n",
              "      <td>0.0</td>\n",
              "      <td>0.0</td>\n",
              "      <td>0.0</td>\n",
              "      <td>0.0</td>\n",
              "      <td>13007.0</td>\n",
              "      <td>13912.0</td>\n",
              "      <td>0.0</td>\n",
              "      <td>0.0</td>\n",
              "      <td>0.0</td>\n",
              "      <td>13007.0</td>\n",
              "      <td>1122.0</td>\n",
              "      <td>0.0</td>\n",
              "      <td>0</td>\n",
              "    </tr>\n",
              "  </tbody>\n",
              "</table>\n",
              "</div>"
            ],
            "text/plain": [
              "   ID  LIMIT_BAL  SEX  ...  PAY_AMT5  PAY_AMT6  default.payment.next.month\n",
              "0   2   120000.0    2  ...       0.0    2000.0                           1\n",
              "1   4    50000.0    2  ...    1069.0    1000.0                           0\n",
              "2   6    50000.0    1  ...    1000.0     800.0                           0\n",
              "3   8   100000.0    2  ...    1687.0    1542.0                           0\n",
              "4  10    20000.0    1  ...    1122.0       0.0                           0\n",
              "\n",
              "[5 rows x 25 columns]"
            ]
          },
          "metadata": {
            "tags": []
          },
          "execution_count": 6
        }
      ]
    },
    {
      "cell_type": "markdown",
      "metadata": {
        "id": "ugptszwOdxhu"
      },
      "source": [
        "- ### Clean the data\n",
        "\n",
        "\n",
        "    - ID variable as it has no relevance to training a model\n",
        "    - Check for any null values\n"
      ]
    },
    {
      "cell_type": "code",
      "metadata": {
        "id": "6lgqroO_dxhu"
      },
      "source": [
        "# Removing ID variable as it has no relevnce for logistic regression model\n",
        "credit.drop(['ID'],axis=1, inplace=True)"
      ],
      "execution_count": 7,
      "outputs": []
    },
    {
      "cell_type": "code",
      "metadata": {
        "colab": {
          "base_uri": "https://localhost:8080/"
        },
        "id": "Ituxwdtxdxhu",
        "outputId": "288b16f6-b671-4866-a732-7145ceff7a34"
      },
      "source": [
        "# Checking for any null values\n",
        "credit.isnull().sum()"
      ],
      "execution_count": 8,
      "outputs": [
        {
          "output_type": "execute_result",
          "data": {
            "text/plain": [
              "LIMIT_BAL                     0\n",
              "SEX                           0\n",
              "EDUCATION                     0\n",
              "MARRIAGE                      0\n",
              "AGE                           0\n",
              "PAY_0                         0\n",
              "PAY_2                         0\n",
              "PAY_3                         0\n",
              "PAY_4                         0\n",
              "PAY_5                         0\n",
              "PAY_6                         0\n",
              "BILL_AMT1                     0\n",
              "BILL_AMT2                     0\n",
              "BILL_AMT3                     0\n",
              "BILL_AMT4                     0\n",
              "BILL_AMT5                     0\n",
              "BILL_AMT6                     0\n",
              "PAY_AMT1                      0\n",
              "PAY_AMT2                      0\n",
              "PAY_AMT3                      0\n",
              "PAY_AMT4                      0\n",
              "PAY_AMT5                      0\n",
              "PAY_AMT6                      0\n",
              "default.payment.next.month    0\n",
              "dtype: int64"
            ]
          },
          "metadata": {
            "tags": []
          },
          "execution_count": 8
        }
      ]
    },
    {
      "cell_type": "markdown",
      "metadata": {
        "id": "6Cu_WvLrdxhv"
      },
      "source": [
        "There are no null values in the data set"
      ]
    },
    {
      "cell_type": "markdown",
      "metadata": {
        "id": "UDrQeBqIdxhv"
      },
      "source": [
        "- ### Check Description \n",
        "       \n",
        "       - 7 point statistics for the continous features"
      ]
    },
    {
      "cell_type": "code",
      "metadata": {
        "colab": {
          "base_uri": "https://localhost:8080/",
          "height": 317
        },
        "id": "12NC7XXKdxhv",
        "outputId": "0e922f43-677e-4820-8932-101195e933bd"
      },
      "source": [
        "credit.describe()"
      ],
      "execution_count": 9,
      "outputs": [
        {
          "output_type": "execute_result",
          "data": {
            "text/html": [
              "<div>\n",
              "<style scoped>\n",
              "    .dataframe tbody tr th:only-of-type {\n",
              "        vertical-align: middle;\n",
              "    }\n",
              "\n",
              "    .dataframe tbody tr th {\n",
              "        vertical-align: top;\n",
              "    }\n",
              "\n",
              "    .dataframe thead th {\n",
              "        text-align: right;\n",
              "    }\n",
              "</style>\n",
              "<table border=\"1\" class=\"dataframe\">\n",
              "  <thead>\n",
              "    <tr style=\"text-align: right;\">\n",
              "      <th></th>\n",
              "      <th>LIMIT_BAL</th>\n",
              "      <th>SEX</th>\n",
              "      <th>EDUCATION</th>\n",
              "      <th>MARRIAGE</th>\n",
              "      <th>AGE</th>\n",
              "      <th>PAY_0</th>\n",
              "      <th>PAY_2</th>\n",
              "      <th>PAY_3</th>\n",
              "      <th>PAY_4</th>\n",
              "      <th>PAY_5</th>\n",
              "      <th>PAY_6</th>\n",
              "      <th>BILL_AMT1</th>\n",
              "      <th>BILL_AMT2</th>\n",
              "      <th>BILL_AMT3</th>\n",
              "      <th>BILL_AMT4</th>\n",
              "      <th>BILL_AMT5</th>\n",
              "      <th>BILL_AMT6</th>\n",
              "      <th>PAY_AMT1</th>\n",
              "      <th>PAY_AMT2</th>\n",
              "      <th>PAY_AMT3</th>\n",
              "      <th>PAY_AMT4</th>\n",
              "      <th>PAY_AMT5</th>\n",
              "      <th>PAY_AMT6</th>\n",
              "      <th>default.payment.next.month</th>\n",
              "    </tr>\n",
              "  </thead>\n",
              "  <tbody>\n",
              "    <tr>\n",
              "      <th>count</th>\n",
              "      <td>15000.000000</td>\n",
              "      <td>15000.000000</td>\n",
              "      <td>15000.000000</td>\n",
              "      <td>15000.000000</td>\n",
              "      <td>15000.000000</td>\n",
              "      <td>15000.000000</td>\n",
              "      <td>15000.000000</td>\n",
              "      <td>15000.000000</td>\n",
              "      <td>15000.000000</td>\n",
              "      <td>15000.000000</td>\n",
              "      <td>15000.000000</td>\n",
              "      <td>15000.000000</td>\n",
              "      <td>15000.000000</td>\n",
              "      <td>15000.000000</td>\n",
              "      <td>15000.000000</td>\n",
              "      <td>15000.000000</td>\n",
              "      <td>15000.000000</td>\n",
              "      <td>15000.00000</td>\n",
              "      <td>1.500000e+04</td>\n",
              "      <td>15000.000000</td>\n",
              "      <td>15000.000000</td>\n",
              "      <td>15000.000000</td>\n",
              "      <td>15000.000000</td>\n",
              "      <td>15000.000000</td>\n",
              "    </tr>\n",
              "    <tr>\n",
              "      <th>mean</th>\n",
              "      <td>169527.578667</td>\n",
              "      <td>1.603933</td>\n",
              "      <td>1.855933</td>\n",
              "      <td>1.545200</td>\n",
              "      <td>35.508467</td>\n",
              "      <td>-0.030867</td>\n",
              "      <td>-0.138800</td>\n",
              "      <td>-0.176933</td>\n",
              "      <td>-0.229200</td>\n",
              "      <td>-0.273067</td>\n",
              "      <td>-0.304200</td>\n",
              "      <td>51159.266267</td>\n",
              "      <td>49182.078533</td>\n",
              "      <td>47003.558333</td>\n",
              "      <td>43118.445933</td>\n",
              "      <td>40351.464000</td>\n",
              "      <td>38825.088667</td>\n",
              "      <td>5780.55660</td>\n",
              "      <td>6.127210e+03</td>\n",
              "      <td>5307.791000</td>\n",
              "      <td>4965.934067</td>\n",
              "      <td>4903.425000</td>\n",
              "      <td>5266.527867</td>\n",
              "      <td>0.218867</td>\n",
              "    </tr>\n",
              "    <tr>\n",
              "      <th>std</th>\n",
              "      <td>130648.638294</td>\n",
              "      <td>0.489095</td>\n",
              "      <td>0.791467</td>\n",
              "      <td>0.520745</td>\n",
              "      <td>9.197418</td>\n",
              "      <td>1.122912</td>\n",
              "      <td>1.202954</td>\n",
              "      <td>1.197438</td>\n",
              "      <td>1.169141</td>\n",
              "      <td>1.127558</td>\n",
              "      <td>1.140708</td>\n",
              "      <td>73804.234735</td>\n",
              "      <td>71370.723550</td>\n",
              "      <td>69191.257474</td>\n",
              "      <td>64329.094075</td>\n",
              "      <td>61109.614828</td>\n",
              "      <td>60034.459443</td>\n",
              "      <td>16549.96775</td>\n",
              "      <td>2.227448e+04</td>\n",
              "      <td>17651.918097</td>\n",
              "      <td>16584.273453</td>\n",
              "      <td>15621.695352</td>\n",
              "      <td>17953.612040</td>\n",
              "      <td>0.413492</td>\n",
              "    </tr>\n",
              "    <tr>\n",
              "      <th>min</th>\n",
              "      <td>10000.000000</td>\n",
              "      <td>1.000000</td>\n",
              "      <td>0.000000</td>\n",
              "      <td>0.000000</td>\n",
              "      <td>21.000000</td>\n",
              "      <td>-2.000000</td>\n",
              "      <td>-2.000000</td>\n",
              "      <td>-2.000000</td>\n",
              "      <td>-2.000000</td>\n",
              "      <td>-2.000000</td>\n",
              "      <td>-2.000000</td>\n",
              "      <td>-154973.000000</td>\n",
              "      <td>-69777.000000</td>\n",
              "      <td>-157264.000000</td>\n",
              "      <td>-170000.000000</td>\n",
              "      <td>-53007.000000</td>\n",
              "      <td>-209051.000000</td>\n",
              "      <td>0.00000</td>\n",
              "      <td>0.000000e+00</td>\n",
              "      <td>0.000000</td>\n",
              "      <td>0.000000</td>\n",
              "      <td>0.000000</td>\n",
              "      <td>0.000000</td>\n",
              "      <td>0.000000</td>\n",
              "    </tr>\n",
              "    <tr>\n",
              "      <th>25%</th>\n",
              "      <td>50000.000000</td>\n",
              "      <td>1.000000</td>\n",
              "      <td>1.000000</td>\n",
              "      <td>1.000000</td>\n",
              "      <td>28.000000</td>\n",
              "      <td>-1.000000</td>\n",
              "      <td>-1.000000</td>\n",
              "      <td>-1.000000</td>\n",
              "      <td>-1.000000</td>\n",
              "      <td>-1.000000</td>\n",
              "      <td>-1.000000</td>\n",
              "      <td>3438.500000</td>\n",
              "      <td>2854.500000</td>\n",
              "      <td>2607.250000</td>\n",
              "      <td>2303.000000</td>\n",
              "      <td>1759.000000</td>\n",
              "      <td>1248.000000</td>\n",
              "      <td>971.75000</td>\n",
              "      <td>8.352500e+02</td>\n",
              "      <td>392.000000</td>\n",
              "      <td>299.000000</td>\n",
              "      <td>266.000000</td>\n",
              "      <td>118.000000</td>\n",
              "      <td>0.000000</td>\n",
              "    </tr>\n",
              "    <tr>\n",
              "      <th>50%</th>\n",
              "      <td>140000.000000</td>\n",
              "      <td>2.000000</td>\n",
              "      <td>2.000000</td>\n",
              "      <td>2.000000</td>\n",
              "      <td>34.000000</td>\n",
              "      <td>0.000000</td>\n",
              "      <td>0.000000</td>\n",
              "      <td>0.000000</td>\n",
              "      <td>0.000000</td>\n",
              "      <td>0.000000</td>\n",
              "      <td>0.000000</td>\n",
              "      <td>21997.000000</td>\n",
              "      <td>20950.500000</td>\n",
              "      <td>19953.500000</td>\n",
              "      <td>18944.000000</td>\n",
              "      <td>17934.000000</td>\n",
              "      <td>16587.000000</td>\n",
              "      <td>2100.00000</td>\n",
              "      <td>2.010000e+03</td>\n",
              "      <td>1823.000000</td>\n",
              "      <td>1500.000000</td>\n",
              "      <td>1500.000000</td>\n",
              "      <td>1500.000000</td>\n",
              "      <td>0.000000</td>\n",
              "    </tr>\n",
              "    <tr>\n",
              "      <th>75%</th>\n",
              "      <td>240000.000000</td>\n",
              "      <td>2.000000</td>\n",
              "      <td>2.000000</td>\n",
              "      <td>2.000000</td>\n",
              "      <td>41.000000</td>\n",
              "      <td>0.000000</td>\n",
              "      <td>0.000000</td>\n",
              "      <td>0.000000</td>\n",
              "      <td>0.000000</td>\n",
              "      <td>0.000000</td>\n",
              "      <td>0.000000</td>\n",
              "      <td>67681.750000</td>\n",
              "      <td>64242.000000</td>\n",
              "      <td>60256.500000</td>\n",
              "      <td>53963.250000</td>\n",
              "      <td>49944.000000</td>\n",
              "      <td>48739.750000</td>\n",
              "      <td>5020.25000</td>\n",
              "      <td>5.000000e+03</td>\n",
              "      <td>4500.000000</td>\n",
              "      <td>4040.000000</td>\n",
              "      <td>4077.500000</td>\n",
              "      <td>4100.000000</td>\n",
              "      <td>0.000000</td>\n",
              "    </tr>\n",
              "    <tr>\n",
              "      <th>max</th>\n",
              "      <td>1000000.000000</td>\n",
              "      <td>2.000000</td>\n",
              "      <td>6.000000</td>\n",
              "      <td>3.000000</td>\n",
              "      <td>79.000000</td>\n",
              "      <td>8.000000</td>\n",
              "      <td>8.000000</td>\n",
              "      <td>8.000000</td>\n",
              "      <td>8.000000</td>\n",
              "      <td>7.000000</td>\n",
              "      <td>7.000000</td>\n",
              "      <td>964511.000000</td>\n",
              "      <td>983931.000000</td>\n",
              "      <td>855086.000000</td>\n",
              "      <td>891586.000000</td>\n",
              "      <td>927171.000000</td>\n",
              "      <td>961664.000000</td>\n",
              "      <td>493358.00000</td>\n",
              "      <td>1.227082e+06</td>\n",
              "      <td>896040.000000</td>\n",
              "      <td>497000.000000</td>\n",
              "      <td>426529.000000</td>\n",
              "      <td>527143.000000</td>\n",
              "      <td>1.000000</td>\n",
              "    </tr>\n",
              "  </tbody>\n",
              "</table>\n",
              "</div>"
            ],
            "text/plain": [
              "            LIMIT_BAL           SEX  ...       PAY_AMT6  default.payment.next.month\n",
              "count    15000.000000  15000.000000  ...   15000.000000                15000.000000\n",
              "mean    169527.578667      1.603933  ...    5266.527867                    0.218867\n",
              "std     130648.638294      0.489095  ...   17953.612040                    0.413492\n",
              "min      10000.000000      1.000000  ...       0.000000                    0.000000\n",
              "25%      50000.000000      1.000000  ...     118.000000                    0.000000\n",
              "50%     140000.000000      2.000000  ...    1500.000000                    0.000000\n",
              "75%     240000.000000      2.000000  ...    4100.000000                    0.000000\n",
              "max    1000000.000000      2.000000  ...  527143.000000                    1.000000\n",
              "\n",
              "[8 rows x 24 columns]"
            ]
          },
          "metadata": {
            "tags": []
          },
          "execution_count": 9
        }
      ]
    },
    {
      "cell_type": "markdown",
      "metadata": {
        "id": "GWCNvkXJdxhv"
      },
      "source": [
        " - We know that many of the variable are categorical variabble"
      ]
    },
    {
      "cell_type": "markdown",
      "metadata": {
        "id": "ccABcMXxdxhv"
      },
      "source": [
        "- ### Check either the data is balanced or not"
      ]
    },
    {
      "cell_type": "code",
      "metadata": {
        "colab": {
          "base_uri": "https://localhost:8080/",
          "height": 419
        },
        "id": "NHDh6Z5Tdxhv",
        "outputId": "66e041a7-d30e-44d6-e753-8505a9ea3596"
      },
      "source": [
        "## Checking for data unbalance\n",
        "temp = credit[\"default.payment.next.month\"].value_counts()\n",
        "df = pd.DataFrame({'default.payment.next.month': temp.index,'values': temp.values})\n",
        "plt.figure(figsize = (6,6))\n",
        "plt.title('Default Credit Card Clients - target value - data unbalance\\n (Default = 0, Not Default = 1)')\n",
        "sns.set_color_codes(\"pastel\")\n",
        "sns.barplot(x = 'default.payment.next.month', y=\"values\", data=df)\n",
        "locs, labels = plt.xticks()\n",
        "plt.show()"
      ],
      "execution_count": 10,
      "outputs": [
        {
          "output_type": "display_data",
          "data": {
            "image/png": "[encoded data removed]",
            "text/plain": [
              "<Figure size 432x432 with 1 Axes>"
            ]
          },
          "metadata": {
            "tags": [],
            "needs_background": "light"
          }
        }
      ]
    },
    {
      "cell_type": "markdown",
      "metadata": {
        "id": "rMUX-HjGdxhw"
      },
      "source": [
        "Around 22% of clients will default next month. The data has not a large unbalance with respect of the target value (default.payment.next.month)."
      ]
    },
    {
      "cell_type": "markdown",
      "metadata": {
        "id": "2vivf8L7dxhw"
      },
      "source": [
        "- ### Correlation for only numeric variable"
      ]
    },
    {
      "cell_type": "code",
      "metadata": {
        "colab": {
          "base_uri": "https://localhost:8080/",
          "height": 515
        },
        "id": "xRRR_n8Jdxhw",
        "outputId": "6d7a300d-65e6-4c96-8dfb-3ff282965d09"
      },
      "source": [
        "var = ['BILL_AMT1','BILL_AMT2','BILL_AMT3','BILL_AMT4','BILL_AMT5','BILL_AMT6']\n",
        "\n",
        "plt.figure(figsize = (8,8))\n",
        "plt.title('Amount of bill statement (Apr-Sept) \\ncorrelation plot (Pearson)')\n",
        "corr = credit[var].corr()\n",
        "sns.heatmap(corr,xticklabels=corr.columns,yticklabels=corr.columns)\n",
        "plt.show()\n"
      ],
      "execution_count": 11,
      "outputs": [
        {
          "output_type": "display_data",
          "data": {
            "image/png": "[encoded data removed]",
            "text/plain": [
              "<Figure size 576x576 with 2 Axes>"
            ]
          },
          "metadata": {
            "tags": [],
            "needs_background": "light"
          }
        }
      ]
    },
    {
      "cell_type": "markdown",
      "metadata": {
        "id": "7xkUV_Kqdxhw"
      },
      "source": [
        "Correlation seems fine for the variable"
      ]
    },
    {
      "cell_type": "markdown",
      "metadata": {
        "id": "VwbK10Fydxhx"
      },
      "source": [
        "- ### Treatment of categorical features"
      ]
    },
    {
      "cell_type": "markdown",
      "metadata": {
        "id": "s721VTfbdxhx"
      },
      "source": [
        "Treating the categorical features to introduce into the model"
      ]
    },
    {
      "cell_type": "code",
      "metadata": {
        "id": "HC0ycKfhdxhx"
      },
      "source": [
        "cat_features = ['EDUCATION', 'SEX', 'MARRIAGE', 'PAY_0', 'PAY_2', 'PAY_3', 'PAY_4', 'PAY_5', 'PAY_6']"
      ],
      "execution_count": 12,
      "outputs": []
    },
    {
      "cell_type": "code",
      "metadata": {
        "id": "D6_Djgtadxhx"
      },
      "source": [
        "credit_dummies = pd.get_dummies(credit, columns = cat_features)"
      ],
      "execution_count": 13,
      "outputs": []
    },
    {
      "cell_type": "code",
      "metadata": {
        "colab": {
          "base_uri": "https://localhost:8080/"
        },
        "id": "DmyPRA4mdxhx",
        "outputId": "742cbae6-c1b2-4fad-bd29-11725514b7b8"
      },
      "source": [
        "print(\"Default of Credit Card Clients train data -  rows:\",credit_dummies.shape[0],\" columns:\", credit_dummies.shape[1])"
      ],
      "execution_count": 14,
      "outputs": [
        {
          "output_type": "stream",
          "text": [
            "Default of Credit Card Clients train data -  rows: 15000  columns: 90\n"
          ],
          "name": "stdout"
        }
      ]
    },
    {
      "cell_type": "code",
      "metadata": {
        "id": "n4nPtCbkdxhx"
      },
      "source": [
        "target= 'default.payment.next.month'\n",
        "predictors = ['LIMIT_BAL', 'AGE', 'BILL_AMT1', 'BILL_AMT2', 'BILL_AMT3', 'BILL_AMT4',\n",
        "       'BILL_AMT5', 'PAY_AMT1', 'PAY_AMT2', 'PAY_AMT3',\n",
        "       'PAY_AMT4', 'PAY_AMT5',\n",
        "       'EDUCATION_0', 'EDUCATION_1', 'EDUCATION_2', 'EDUCATION_3',\n",
        "       'EDUCATION_4', 'EDUCATION_5', 'SEX_1',\n",
        "       'MARRIAGE_0', 'MARRIAGE_1', 'MARRIAGE_2', 'PAY_0_-2',\n",
        "       'PAY_0_-1', 'PAY_0_0', 'PAY_0_1', 'PAY_0_2', 'PAY_0_3', 'PAY_0_4',\n",
        "       'PAY_0_5', 'PAY_0_6', 'PAY_0_7', 'PAY_2_-2', 'PAY_2_-1',\n",
        "       'PAY_2_0', 'PAY_2_1', 'PAY_2_2', 'PAY_2_3', 'PAY_2_4', 'PAY_2_5',\n",
        "       'PAY_2_6', 'PAY_2_7', 'PAY_3_-2', 'PAY_3_-1', 'PAY_3_0',\n",
        "       'PAY_3_1', 'PAY_3_2', 'PAY_3_3', 'PAY_3_4', 'PAY_3_5', 'PAY_3_6',\n",
        "       'PAY_3_7', 'PAY_4_-2', 'PAY_4_-1', 'PAY_4_0', 'PAY_4_1',\n",
        "       'PAY_4_2', 'PAY_4_3', 'PAY_4_4', 'PAY_4_5', 'PAY_4_6', 'PAY_4_7',\n",
        "       'PAY_5_-2', 'PAY_5_-1', 'PAY_5_0', 'PAY_5_2', 'PAY_5_3',\n",
        "       'PAY_5_4', 'PAY_5_5', 'PAY_5_6', 'PAY_5_7', 'PAY_6_-2',\n",
        "       'PAY_6_-1', 'PAY_6_0', 'PAY_6_2', 'PAY_6_3', 'PAY_6_4', 'PAY_6_5',\n",
        "       'PAY_6_6', 'PAY_6_7']"
      ],
      "execution_count": 15,
      "outputs": []
    },
    {
      "cell_type": "markdown",
      "metadata": {
        "id": "XFiCbhy0dxhy"
      },
      "source": [
        "- ### Divide target and features"
      ]
    },
    {
      "cell_type": "code",
      "metadata": {
        "id": "JGA5LHjJdxhz"
      },
      "source": [
        "#Assigning and dividing the dataset\n",
        "X = credit_dummies[predictors]\n",
        "y=credit_dummies['default.payment.next.month']"
      ],
      "execution_count": 16,
      "outputs": []
    },
    {
      "cell_type": "markdown",
      "metadata": {
        "id": "7LFsnudddxhz"
      },
      "source": [
        "- ### Create training and testing set"
      ]
    },
    {
      "cell_type": "code",
      "metadata": {
        "id": "Rwev2PDpdxhz"
      },
      "source": [
        "# Splitting the dataset into the Training set and Test set\n",
        "from sklearn.model_selection  import train_test_split\n",
        "X_train, X_test, y_train, y_test = train_test_split(X, y, test_size = 0.20, random_state = 5)"
      ],
      "execution_count": 17,
      "outputs": []
    },
    {
      "cell_type": "code",
      "metadata": {
        "colab": {
          "base_uri": "https://localhost:8080/"
        },
        "id": "jEr2wQh9dxhz",
        "outputId": "2711559e-05c9-4770-fa4b-1603eab763e7"
      },
      "source": [
        "X_train.shape"
      ],
      "execution_count": 18,
      "outputs": [
        {
          "output_type": "execute_result",
          "data": {
            "text/plain": [
              "(12000, 80)"
            ]
          },
          "metadata": {
            "tags": []
          },
          "execution_count": 18
        }
      ]
    },
    {
      "cell_type": "code",
      "metadata": {
        "colab": {
          "base_uri": "https://localhost:8080/"
        },
        "id": "mffQnlimdxhz",
        "outputId": "a9be1530-14c4-44d5-dc11-040b54ad492b"
      },
      "source": [
        "X_test.shape"
      ],
      "execution_count": 19,
      "outputs": [
        {
          "output_type": "execute_result",
          "data": {
            "text/plain": [
              "(3000, 80)"
            ]
          },
          "metadata": {
            "tags": []
          },
          "execution_count": 19
        }
      ]
    },
    {
      "cell_type": "markdown",
      "metadata": {
        "id": "eBF4Fxcxdxh0"
      },
      "source": [
        "- ### Apply Logistic Regression"
      ]
    },
    {
      "cell_type": "code",
      "metadata": {
        "colab": {
          "base_uri": "https://localhost:8080/"
        },
        "id": "0GV32Uqpdxh0",
        "outputId": "847a3731-4e83-4b75-af62-fcbad82b3f76"
      },
      "source": [
        "from sklearn.linear_model import LogisticRegression\n",
        "classifier = LogisticRegression(C=0.4,max_iter=1000,solver='liblinear')\n",
        "classifier.fit(X_train, y_train)"
      ],
      "execution_count": 20,
      "outputs": [
        {
          "output_type": "execute_result",
          "data": {
            "text/plain": [
              "LogisticRegression(C=0.4, class_weight=None, dual=False, fit_intercept=True,\n",
              "                   intercept_scaling=1, l1_ratio=None, max_iter=1000,\n",
              "                   multi_class='auto', n_jobs=None, penalty='l2',\n",
              "                   random_state=None, solver='liblinear', tol=0.0001, verbose=0,\n",
              "                   warm_start=False)"
            ]
          },
          "metadata": {
            "tags": []
          },
          "execution_count": 20
        }
      ]
    },
    {
      "cell_type": "code",
      "metadata": {
        "id": "Z6TyPEuKdxh0"
      },
      "source": [
        "#### Predicting on X_test dataset\n",
        "y_pred = classifier.predict(X_test)"
      ],
      "execution_count": 21,
      "outputs": []
    },
    {
      "cell_type": "markdown",
      "metadata": {
        "id": "uycXBWSndxh0"
      },
      "source": [
        "- #### Assessing Model performance\n",
        "    - __Precision__: Percentage of correct results\n",
        "    - __Recall__: Percentage of valid results correctly classified\n",
        "    - __F1 Score__: A measure of test's accuracy which is harmonic mean of precision and recall. Maximising this improves the model. Perfect at 1 and worst at 0. "
      ]
    },
    {
      "cell_type": "code",
      "metadata": {
        "colab": {
          "base_uri": "https://localhost:8080/"
        },
        "id": "K-0y8R8-dxh0",
        "outputId": "534f8ef5-82d8-41ea-8ff3-bd6c9d03f2ab"
      },
      "source": [
        "from sklearn.metrics import confusion_matrix, accuracy_score, f1_score, precision_score, recall_score\n",
        "acc = accuracy_score(y_test, y_pred)\n",
        "prec = precision_score(y_test, y_pred)\n",
        "rec = recall_score(y_test, y_pred)\n",
        "f1 = f1_score(y_test, y_pred)\n",
        "\n",
        "results = pd.DataFrame([['Logistic Regression', acc, prec, rec, f1]],\n",
        "               columns = ['Model', 'Accuracy', 'Precision', 'Recall', 'F1 Score'])\n",
        "print(results)"
      ],
      "execution_count": 22,
      "outputs": [
        {
          "output_type": "stream",
          "text": [
            "                 Model  Accuracy  Precision  Recall  F1 Score\n",
            "0  Logistic Regression  0.780333        0.0     0.0       0.0\n"
          ],
          "name": "stdout"
        },
        {
          "output_type": "stream",
          "text": [
            "/usr/local/lib/python3.6/dist-packages/sklearn/metrics/_classification.py:1272: UndefinedMetricWarning: Precision is ill-defined and being set to 0.0 due to no predicted samples. Use `zero_division` parameter to control this behavior.\n",
            "  _warn_prf(average, modifier, msg_start, len(result))\n"
          ],
          "name": "stderr"
        }
      ]
    },
    {
      "cell_type": "code",
      "metadata": {
        "colab": {
          "base_uri": "https://localhost:8080/"
        },
        "id": "JlYU67LHdxh1",
        "outputId": "6a69b412-89b1-4283-8551-0ea85b3be4f7"
      },
      "source": [
        "confusion_matrix(y_test,y_pred)"
      ],
      "execution_count": 23,
      "outputs": [
        {
          "output_type": "execute_result",
          "data": {
            "text/plain": [
              "array([[2341,    0],\n",
              "       [ 659,    0]])"
            ]
          },
          "metadata": {
            "tags": []
          },
          "execution_count": 23
        }
      ]
    },
    {
      "cell_type": "markdown",
      "metadata": {
        "id": "aPEWfazadxh1"
      },
      "source": [
        "- ### Apply SMOTE as data is unbalanced"
      ]
    },
    {
      "cell_type": "code",
      "metadata": {
        "id": "sF1GkKMGdxh1"
      },
      "source": [
        "from imblearn.over_sampling import SMOTE"
      ],
      "execution_count": 24,
      "outputs": []
    },
    {
      "cell_type": "code",
      "metadata": {
        "colab": {
          "base_uri": "https://localhost:8080/"
        },
        "id": "fr6hE0twdxh1",
        "outputId": "419b87fd-5bca-4f34-df40-e95900e92da1"
      },
      "source": [
        "sm = SMOTE(random_state=589)\n",
        "X_SMOTE, y_SMOTE = sm.fit_sample(X_train, y_train)\n",
        "print(len(y_SMOTE))"
      ],
      "execution_count": 25,
      "outputs": [
        {
          "output_type": "stream",
          "text": [
            "18752\n"
          ],
          "name": "stdout"
        }
      ]
    },
    {
      "cell_type": "code",
      "metadata": {
        "colab": {
          "base_uri": "https://localhost:8080/"
        },
        "id": "EDRwSDlqdxh1",
        "outputId": "8c54a41e-dff4-483c-aa25-b5d34a45b430"
      },
      "source": [
        "classifier1 = LogisticRegression(C=0.4,max_iter=1000,solver='liblinear')\n",
        "classifier1.fit(X_SMOTE, y_SMOTE)"
      ],
      "execution_count": 26,
      "outputs": [
        {
          "output_type": "execute_result",
          "data": {
            "text/plain": [
              "LogisticRegression(C=0.4, class_weight=None, dual=False, fit_intercept=True,\n",
              "                   intercept_scaling=1, l1_ratio=None, max_iter=1000,\n",
              "                   multi_class='auto', n_jobs=None, penalty='l2',\n",
              "                   random_state=None, solver='liblinear', tol=0.0001, verbose=0,\n",
              "                   warm_start=False)"
            ]
          },
          "metadata": {
            "tags": []
          },
          "execution_count": 26
        }
      ]
    },
    {
      "cell_type": "code",
      "metadata": {
        "id": "g5CJ-I1Kdxh1"
      },
      "source": [
        "#### Predicting on X_test dataset\n",
        "y_pred1 = classifier1.predict(X_test)"
      ],
      "execution_count": 27,
      "outputs": []
    },
    {
      "cell_type": "code",
      "metadata": {
        "colab": {
          "base_uri": "https://localhost:8080/"
        },
        "id": "y2yNhazqdxh2",
        "outputId": "7326acd5-026e-4808-cf84-728438ef32a0"
      },
      "source": [
        "acc = accuracy_score(y_test, y_pred1)\n",
        "prec = precision_score(y_test, y_pred1)\n",
        "rec = recall_score(y_test, y_pred1)\n",
        "f1 = f1_score(y_test, y_pred1)\n",
        "\n",
        "model_results = pd.DataFrame([['Logistic Regression - with SMOTE', acc, prec, rec, f1]],\n",
        "               columns = ['Model', 'Accuracy', 'Precision', 'Recall', 'F1 Score'])\n",
        "\n",
        "results = results.append(model_results, ignore_index = True)\n",
        "print(results)"
      ],
      "execution_count": 28,
      "outputs": [
        {
          "output_type": "stream",
          "text": [
            "                              Model  Accuracy  Precision    Recall  F1 Score\n",
            "0               Logistic Regression  0.780333    0.00000  0.000000  0.000000\n",
            "1  Logistic Regression - with SMOTE  0.565333    0.29653  0.713202  0.418895\n"
          ],
          "name": "stdout"
        }
      ]
    },
    {
      "cell_type": "code",
      "metadata": {
        "colab": {
          "base_uri": "https://localhost:8080/"
        },
        "id": "CQCgdKcndxh2",
        "outputId": "b9a6fc07-91d8-46a4-bd53-758064301dd1"
      },
      "source": [
        "confusion_matrix(y_test,y_pred1)"
      ],
      "execution_count": 29,
      "outputs": [
        {
          "output_type": "execute_result",
          "data": {
            "text/plain": [
              "array([[1226, 1115],\n",
              "       [ 189,  470]])"
            ]
          },
          "metadata": {
            "tags": []
          },
          "execution_count": 29
        }
      ]
    },
    {
      "cell_type": "markdown",
      "metadata": {
        "id": "2ql6g-Xudxh2"
      },
      "source": [
        "Accuracy has dipped but F1 score of the model has improved"
      ]
    },
    {
      "cell_type": "markdown",
      "metadata": {
        "id": "mHSnQAm9dxh2"
      },
      "source": [
        "- ### Apply Decison Tree"
      ]
    },
    {
      "cell_type": "code",
      "metadata": {
        "id": "nokE_INadxh3"
      },
      "source": [
        "from sklearn.tree import DecisionTreeClassifier"
      ],
      "execution_count": 30,
      "outputs": []
    },
    {
      "cell_type": "code",
      "metadata": {
        "id": "DVbp83J5dxh3"
      },
      "source": [
        "clf = DecisionTreeClassifier(random_state=14) \n",
        "# training the classifier\n",
        "clf.fit(X_train, y_train)\n",
        "# do our predictions on the test\n",
        "pred_dt = clf.predict(X_test)"
      ],
      "execution_count": 31,
      "outputs": []
    },
    {
      "cell_type": "code",
      "metadata": {
        "colab": {
          "base_uri": "https://localhost:8080/"
        },
        "id": "Umqcw5Ghdxh3",
        "outputId": "c2dcca53-dd5d-4c3b-b52b-5631771ddcfe"
      },
      "source": [
        "# Predicting Test Set\n",
        "acc = accuracy_score(y_test, pred_dt)\n",
        "prec = precision_score(y_test, pred_dt)\n",
        "rec = recall_score(y_test, pred_dt)\n",
        "f1 = f1_score(y_test, pred_dt)\n",
        "\n",
        "model_results = pd.DataFrame([['Decision Tree', acc, prec, rec, f1]],\n",
        "               columns = ['Model', 'Accuracy', 'Precision', 'Recall', 'F1 Score'])\n",
        "\n",
        "results = results.append(model_results, ignore_index = True)\n",
        "print(results)"
      ],
      "execution_count": 32,
      "outputs": [
        {
          "output_type": "stream",
          "text": [
            "                              Model  Accuracy  Precision    Recall  F1 Score\n",
            "0               Logistic Regression  0.780333   0.000000  0.000000  0.000000\n",
            "1  Logistic Regression - with SMOTE  0.565333   0.296530  0.713202  0.418895\n",
            "2                     Decision Tree  0.727000   0.383721  0.400607  0.391982\n"
          ],
          "name": "stdout"
        }
      ]
    },
    {
      "cell_type": "markdown",
      "metadata": {
        "id": "-t5O4omydxh3"
      },
      "source": [
        "- ### Apply Random Forest"
      ]
    },
    {
      "cell_type": "code",
      "metadata": {
        "colab": {
          "base_uri": "https://localhost:8080/"
        },
        "id": "l3VgTQczdxh3",
        "outputId": "9f533a76-cdf8-4cf0-82fd-52da0b9ea78b"
      },
      "source": [
        "from sklearn.ensemble import RandomForestClassifier\n",
        "clf_rf = RandomForestClassifier()\n",
        "clf_rf.fit(X_train, y_train)\n",
        "\n",
        "# Predicting Test Set\n",
        "y_pred_rf = clf_rf.predict(X_test)\n",
        "acc = accuracy_score(y_test, y_pred_rf)\n",
        "prec = precision_score(y_test, y_pred_rf)\n",
        "rec = recall_score(y_test, y_pred_rf)\n",
        "f1 = f1_score(y_test, y_pred_rf)\n",
        "\n",
        "model_results = pd.DataFrame([['Random Forest(Gini)', acc, prec, rec, f1]],\n",
        "               columns = ['Model', 'Accuracy', 'Precision', 'Recall', 'F1 Score'])\n",
        "\n",
        "results = results.append(model_results, ignore_index = True)\n",
        "print(results)"
      ],
      "execution_count": 33,
      "outputs": [
        {
          "output_type": "stream",
          "text": [
            "                              Model  Accuracy  Precision    Recall  F1 Score\n",
            "0               Logistic Regression  0.780333   0.000000  0.000000  0.000000\n",
            "1  Logistic Regression - with SMOTE  0.565333   0.296530  0.713202  0.418895\n",
            "2                     Decision Tree  0.727000   0.383721  0.400607  0.391982\n",
            "3               Random Forest(Gini)  0.820667   0.660477  0.377845  0.480695\n"
          ],
          "name": "stdout"
        }
      ]
    },
    {
      "cell_type": "code",
      "metadata": {
        "colab": {
          "base_uri": "https://localhost:8080/"
        },
        "id": "4DaCSuFjdxh3",
        "outputId": "ebb9bb90-f7f2-4a5f-aa82-32bf02874a3f"
      },
      "source": [
        "from sklearn.ensemble import RandomForestClassifier\n",
        "clf_rf = RandomForestClassifier(criterion='entropy')\n",
        "clf_rf.fit(X_train, y_train)\n",
        "\n",
        "# Predicting Test Set\n",
        "y_pred_rf = clf_rf.predict(X_test)\n",
        "acc = accuracy_score(y_test, y_pred_rf)\n",
        "prec = precision_score(y_test, y_pred_rf)\n",
        "rec = recall_score(y_test, y_pred_rf)\n",
        "f1 = f1_score(y_test, y_pred_rf)\n",
        "\n",
        "model_results = pd.DataFrame([['Random Forest(Entropy)', acc, prec, rec, f1]],\n",
        "               columns = ['Model', 'Accuracy', 'Precision', 'Recall', 'F1 Score'])\n",
        "\n",
        "results = results.append(model_results, ignore_index = True)\n",
        "print(results)"
      ],
      "execution_count": 34,
      "outputs": [
        {
          "output_type": "stream",
          "text": [
            "                              Model  Accuracy  Precision    Recall  F1 Score\n",
            "0               Logistic Regression  0.780333   0.000000  0.000000  0.000000\n",
            "1  Logistic Regression - with SMOTE  0.565333   0.296530  0.713202  0.418895\n",
            "2                     Decision Tree  0.727000   0.383721  0.400607  0.391982\n",
            "3               Random Forest(Gini)  0.820667   0.660477  0.377845  0.480695\n",
            "4            Random Forest(Entropy)  0.817000   0.648649  0.364188  0.466472\n"
          ],
          "name": "stdout"
        }
      ]
    },
    {
      "cell_type": "markdown",
      "metadata": {
        "id": "STHlISXZdxh4"
      },
      "source": [
        "- ### Top 5 Features"
      ]
    },
    {
      "cell_type": "markdown",
      "metadata": {
        "id": "HZ55ycKgdxh4"
      },
      "source": [
        "> Decision Tree"
      ]
    },
    {
      "cell_type": "code",
      "metadata": {
        "scrolled": false,
        "colab": {
          "base_uri": "https://localhost:8080/",
          "height": 204
        },
        "id": "A-9IXk1Jdxh4",
        "outputId": "3e801d8d-21dc-4db7-c158-cf7fd993a333"
      },
      "source": [
        "result = pd.DataFrame({'features':X_train.columns,'score':clf.feature_importances_.tolist()})\n",
        "result.sort_values(by=['score'],ascending=False).head()"
      ],
      "execution_count": 35,
      "outputs": [
        {
          "output_type": "execute_result",
          "data": {
            "text/html": [
              "<div>\n",
              "<style scoped>\n",
              "    .dataframe tbody tr th:only-of-type {\n",
              "        vertical-align: middle;\n",
              "    }\n",
              "\n",
              "    .dataframe tbody tr th {\n",
              "        vertical-align: top;\n",
              "    }\n",
              "\n",
              "    .dataframe thead th {\n",
              "        text-align: right;\n",
              "    }\n",
              "</style>\n",
              "<table border=\"1\" class=\"dataframe\">\n",
              "  <thead>\n",
              "    <tr style=\"text-align: right;\">\n",
              "      <th></th>\n",
              "      <th>features</th>\n",
              "      <th>score</th>\n",
              "    </tr>\n",
              "  </thead>\n",
              "  <tbody>\n",
              "    <tr>\n",
              "      <th>26</th>\n",
              "      <td>PAY_0_2</td>\n",
              "      <td>0.126742</td>\n",
              "    </tr>\n",
              "    <tr>\n",
              "      <th>1</th>\n",
              "      <td>AGE</td>\n",
              "      <td>0.079002</td>\n",
              "    </tr>\n",
              "    <tr>\n",
              "      <th>0</th>\n",
              "      <td>LIMIT_BAL</td>\n",
              "      <td>0.065819</td>\n",
              "    </tr>\n",
              "    <tr>\n",
              "      <th>9</th>\n",
              "      <td>PAY_AMT3</td>\n",
              "      <td>0.065632</td>\n",
              "    </tr>\n",
              "    <tr>\n",
              "      <th>2</th>\n",
              "      <td>BILL_AMT1</td>\n",
              "      <td>0.063604</td>\n",
              "    </tr>\n",
              "  </tbody>\n",
              "</table>\n",
              "</div>"
            ],
            "text/plain": [
              "     features     score\n",
              "26    PAY_0_2  0.126742\n",
              "1         AGE  0.079002\n",
              "0   LIMIT_BAL  0.065819\n",
              "9    PAY_AMT3  0.065632\n",
              "2   BILL_AMT1  0.063604"
            ]
          },
          "metadata": {
            "tags": []
          },
          "execution_count": 35
        }
      ]
    },
    {
      "cell_type": "markdown",
      "metadata": {
        "id": "fCKiXuS5dxh4"
      },
      "source": [
        "> Random Forest"
      ]
    },
    {
      "cell_type": "code",
      "metadata": {
        "colab": {
          "base_uri": "https://localhost:8080/",
          "height": 204
        },
        "id": "-2RhgW4hdxh4",
        "outputId": "440ffa77-04ad-40c8-c73e-76bf57bb3b79"
      },
      "source": [
        "result_rf = pd.DataFrame({'features':X_train.columns,'score':clf_rf.feature_importances_.tolist()})\n",
        "result_rf.sort_values(by=['score'],ascending=False).head()"
      ],
      "execution_count": 36,
      "outputs": [
        {
          "output_type": "execute_result",
          "data": {
            "text/html": [
              "<div>\n",
              "<style scoped>\n",
              "    .dataframe tbody tr th:only-of-type {\n",
              "        vertical-align: middle;\n",
              "    }\n",
              "\n",
              "    .dataframe tbody tr th {\n",
              "        vertical-align: top;\n",
              "    }\n",
              "\n",
              "    .dataframe thead th {\n",
              "        text-align: right;\n",
              "    }\n",
              "</style>\n",
              "<table border=\"1\" class=\"dataframe\">\n",
              "  <thead>\n",
              "    <tr style=\"text-align: right;\">\n",
              "      <th></th>\n",
              "      <th>features</th>\n",
              "      <th>score</th>\n",
              "    </tr>\n",
              "  </thead>\n",
              "  <tbody>\n",
              "    <tr>\n",
              "      <th>0</th>\n",
              "      <td>LIMIT_BAL</td>\n",
              "      <td>0.070020</td>\n",
              "    </tr>\n",
              "    <tr>\n",
              "      <th>1</th>\n",
              "      <td>AGE</td>\n",
              "      <td>0.068679</td>\n",
              "    </tr>\n",
              "    <tr>\n",
              "      <th>2</th>\n",
              "      <td>BILL_AMT1</td>\n",
              "      <td>0.065242</td>\n",
              "    </tr>\n",
              "    <tr>\n",
              "      <th>3</th>\n",
              "      <td>BILL_AMT2</td>\n",
              "      <td>0.060262</td>\n",
              "    </tr>\n",
              "    <tr>\n",
              "      <th>4</th>\n",
              "      <td>BILL_AMT3</td>\n",
              "      <td>0.058515</td>\n",
              "    </tr>\n",
              "  </tbody>\n",
              "</table>\n",
              "</div>"
            ],
            "text/plain": [
              "    features     score\n",
              "0  LIMIT_BAL  0.070020\n",
              "1        AGE  0.068679\n",
              "2  BILL_AMT1  0.065242\n",
              "3  BILL_AMT2  0.060262\n",
              "4  BILL_AMT3  0.058515"
            ]
          },
          "metadata": {
            "tags": []
          },
          "execution_count": 36
        }
      ]
    },
    {
      "cell_type": "markdown",
      "metadata": {
        "id": "pLpc48J5dxh4"
      },
      "source": [
        "Difference in feature importance provided by random forest classfier vs Decision tree."
      ]
    },
    {
      "cell_type": "markdown",
      "metadata": {
        "id": "FT5RVjx4dxh5"
      },
      "source": [
        "- ### Apply SVM"
      ]
    },
    {
      "cell_type": "code",
      "metadata": {
        "id": "_ULPSwZddxh5"
      },
      "source": [
        "from sklearn.svm import SVC"
      ],
      "execution_count": 37,
      "outputs": []
    },
    {
      "cell_type": "code",
      "metadata": {
        "id": "poaiTKQGdxh5"
      },
      "source": [
        "model_svm = SVC(cache_size=100)"
      ],
      "execution_count": 38,
      "outputs": []
    },
    {
      "cell_type": "code",
      "metadata": {
        "colab": {
          "base_uri": "https://localhost:8080/"
        },
        "id": "aUGQNVQqdxh5",
        "outputId": "c6833eae-aa22-4646-c761-d3196d04c7ef"
      },
      "source": [
        "model_svm.fit(X_train,y_train)"
      ],
      "execution_count": 39,
      "outputs": [
        {
          "output_type": "execute_result",
          "data": {
            "text/plain": [
              "SVC(C=1.0, break_ties=False, cache_size=100, class_weight=None, coef0=0.0,\n",
              "    decision_function_shape='ovr', degree=3, gamma='scale', kernel='rbf',\n",
              "    max_iter=-1, probability=False, random_state=None, shrinking=True,\n",
              "    tol=0.001, verbose=False)"
            ]
          },
          "metadata": {
            "tags": []
          },
          "execution_count": 39
        }
      ]
    },
    {
      "cell_type": "markdown",
      "metadata": {
        "id": "pUnfXmN_dxh5"
      },
      "source": [
        "The model takes lot of time to run.  Hence caution before you run it"
      ]
    },
    {
      "cell_type": "code",
      "metadata": {
        "id": "nsY0i9Hydxh5"
      },
      "source": [
        "# Predicting Test Set\n",
        "predicted= model_svm.predict(X_test)"
      ],
      "execution_count": 40,
      "outputs": []
    },
    {
      "cell_type": "code",
      "metadata": {
        "colab": {
          "base_uri": "https://localhost:8080/"
        },
        "id": "xuQfSw_Sdxh5",
        "outputId": "9dd005c3-2837-4d6f-8f7f-9a9409188f64"
      },
      "source": [
        "acc = accuracy_score(y_test, predicted)\n",
        "prec = precision_score(y_test, predicted,zero_division=True)\n",
        "rec = recall_score(y_test, predicted,zero_division=True)\n",
        "f1 = f1_score(y_test, predicted,zero_division=True)\n",
        "\n",
        "model_results = pd.DataFrame([['Support Vector Machine', acc, prec, rec, f1]],\n",
        "               columns = ['Model', 'Accuracy', 'Precision', 'Recall', 'F1 Score'])\n",
        "\n",
        "results = results.append(model_results, ignore_index = True)\n",
        "print(results)"
      ],
      "execution_count": 41,
      "outputs": [
        {
          "output_type": "stream",
          "text": [
            "                              Model  Accuracy  Precision    Recall  F1 Score\n",
            "0               Logistic Regression  0.780333   0.000000  0.000000  0.000000\n",
            "1  Logistic Regression - with SMOTE  0.565333   0.296530  0.713202  0.418895\n",
            "2                     Decision Tree  0.727000   0.383721  0.400607  0.391982\n",
            "3               Random Forest(Gini)  0.820667   0.660477  0.377845  0.480695\n",
            "4            Random Forest(Entropy)  0.817000   0.648649  0.364188  0.466472\n",
            "5            Support Vector Machine  0.780333   1.000000  0.000000  0.000000\n"
          ],
          "name": "stdout"
        }
      ]
    },
    {
      "cell_type": "markdown",
      "metadata": {
        "id": "HAa5PowLdxh6"
      },
      "source": [
        "- ### Apply KNN with N = 3"
      ]
    },
    {
      "cell_type": "code",
      "metadata": {
        "id": "Pn0Le5tndxh6"
      },
      "source": [
        "from sklearn.neighbors import KNeighborsClassifier"
      ],
      "execution_count": 42,
      "outputs": []
    },
    {
      "cell_type": "code",
      "metadata": {
        "colab": {
          "base_uri": "https://localhost:8080/"
        },
        "id": "Zh-zNxhwdxh6",
        "outputId": "fa78b282-7b2a-4cea-f119-97fceb2199f1"
      },
      "source": [
        "model_knn3 = KNeighborsClassifier(n_neighbors=3)\n",
        "model_knn3.fit(X_train,y_train)"
      ],
      "execution_count": 43,
      "outputs": [
        {
          "output_type": "execute_result",
          "data": {
            "text/plain": [
              "KNeighborsClassifier(algorithm='auto', leaf_size=30, metric='minkowski',\n",
              "                     metric_params=None, n_jobs=None, n_neighbors=3, p=2,\n",
              "                     weights='uniform')"
            ]
          },
          "metadata": {
            "tags": []
          },
          "execution_count": 43
        }
      ]
    },
    {
      "cell_type": "markdown",
      "metadata": {
        "id": "t0QcCVYcdxh6"
      },
      "source": [
        "- ### Apply KNN with N = 4"
      ]
    },
    {
      "cell_type": "code",
      "metadata": {
        "colab": {
          "base_uri": "https://localhost:8080/"
        },
        "id": "GM_ovFtEdxh6",
        "outputId": "be6691db-bcf1-4a8d-e347-1053f7446935"
      },
      "source": [
        "model_knn4 = KNeighborsClassifier(n_neighbors=4)\n",
        "model_knn4.fit(X_train,y_train)"
      ],
      "execution_count": 44,
      "outputs": [
        {
          "output_type": "execute_result",
          "data": {
            "text/plain": [
              "KNeighborsClassifier(algorithm='auto', leaf_size=30, metric='minkowski',\n",
              "                     metric_params=None, n_jobs=None, n_neighbors=4, p=2,\n",
              "                     weights='uniform')"
            ]
          },
          "metadata": {
            "tags": []
          },
          "execution_count": 44
        }
      ]
    },
    {
      "cell_type": "markdown",
      "metadata": {
        "id": "xPNxHfQzdxh6"
      },
      "source": [
        "- ### Apply KNN with N = 5"
      ]
    },
    {
      "cell_type": "code",
      "metadata": {
        "id": "veGyLf6ydxh7"
      },
      "source": [
        "from sklearn.neighbors import KNeighborsClassifier"
      ],
      "execution_count": 45,
      "outputs": []
    },
    {
      "cell_type": "code",
      "metadata": {
        "colab": {
          "base_uri": "https://localhost:8080/"
        },
        "id": "soYz8Ybsdxh7",
        "outputId": "92fc1a9a-0e79-4fe0-e579-8c1638559cb7"
      },
      "source": [
        "model_knn5 = KNeighborsClassifier(n_neighbors=5)\n",
        "model_knn5.fit(X_train,y_train)"
      ],
      "execution_count": 46,
      "outputs": [
        {
          "output_type": "execute_result",
          "data": {
            "text/plain": [
              "KNeighborsClassifier(algorithm='auto', leaf_size=30, metric='minkowski',\n",
              "                     metric_params=None, n_jobs=None, n_neighbors=5, p=2,\n",
              "                     weights='uniform')"
            ]
          },
          "metadata": {
            "tags": []
          },
          "execution_count": 46
        }
      ]
    },
    {
      "cell_type": "code",
      "metadata": {
        "colab": {
          "base_uri": "https://localhost:8080/"
        },
        "id": "KbFrf7yvdxh7",
        "outputId": "b0c1018b-eb0c-4f9a-bb6d-f5e992306554"
      },
      "source": [
        "# Predicting Test Set N=3\n",
        "pred_knn3= model_knn3.predict(X_test)\n",
        "acc = accuracy_score(y_test, pred_knn3)\n",
        "prec = precision_score(y_test, pred_knn3)\n",
        "rec = recall_score(y_test, pred_knn3)\n",
        "f1 = f1_score(y_test, pred_knn3)\n",
        "\n",
        "model_results = pd.DataFrame([['KNN-3 neigbours', acc, prec, rec, f1]],\n",
        "               columns = ['Model', 'Accuracy', 'Precision', 'Recall', 'F1 Score'])\n",
        "\n",
        "results = results.append(model_results, ignore_index = True)\n",
        "\n",
        "\n",
        "# Predicting Test Set N=4\n",
        "pred_knn4= model_knn4.predict(X_test)\n",
        "acc = accuracy_score(y_test, pred_knn4)\n",
        "prec = precision_score(y_test, pred_knn4)\n",
        "rec = recall_score(y_test, pred_knn4)\n",
        "f1 = f1_score(y_test, pred_knn4)\n",
        "\n",
        "model_results = pd.DataFrame([['KNN-4 neigbours', acc, prec, rec, f1]],\n",
        "               columns = ['Model', 'Accuracy', 'Precision', 'Recall', 'F1 Score'])\n",
        "\n",
        "results = results.append(model_results, ignore_index = True)\n",
        "\n",
        "\n",
        "# Predicting Test Set N=5\n",
        "pred_knn5= model_knn5.predict(X_test)\n",
        "acc = accuracy_score(y_test, pred_knn5)\n",
        "prec = precision_score(y_test, pred_knn5)\n",
        "rec = recall_score(y_test, pred_knn5)\n",
        "f1 = f1_score(y_test, pred_knn5)\n",
        "\n",
        "model_results = pd.DataFrame([['KNN-5 neigbours', acc, prec, rec, f1]],\n",
        "               columns = ['Model', 'Accuracy', 'Precision', 'Recall', 'F1 Score'])\n",
        "\n",
        "results = results.append(model_results, ignore_index = True)\n",
        "\n",
        "print(results)"
      ],
      "execution_count": 47,
      "outputs": [
        {
          "output_type": "stream",
          "text": [
            "                              Model  Accuracy  Precision    Recall  F1 Score\n",
            "0               Logistic Regression  0.780333   0.000000  0.000000  0.000000\n",
            "1  Logistic Regression - with SMOTE  0.565333   0.296530  0.713202  0.418895\n",
            "2                     Decision Tree  0.727000   0.383721  0.400607  0.391982\n",
            "3               Random Forest(Gini)  0.820667   0.660477  0.377845  0.480695\n",
            "4            Random Forest(Entropy)  0.817000   0.648649  0.364188  0.466472\n",
            "5            Support Vector Machine  0.780333   1.000000  0.000000  0.000000\n",
            "6                   KNN-3 neigbours  0.733000   0.330144  0.209408  0.256267\n",
            "7                   KNN-4 neigbours  0.762333   0.344828  0.091047  0.144058\n",
            "8                   KNN-5 neigbours  0.745333   0.325581  0.148710  0.204167\n"
          ],
          "name": "stdout"
        }
      ]
    },
    {
      "cell_type": "markdown",
      "metadata": {
        "id": "SLsVgLGXdxh7"
      },
      "source": [
        "- ### Apply Naive Bayes"
      ]
    },
    {
      "cell_type": "markdown",
      "metadata": {
        "id": "Yp02hAh0dxh7"
      },
      "source": [
        "In this case, it is possible to apply gaussian and bernoulli naive bayes."
      ]
    },
    {
      "cell_type": "markdown",
      "metadata": {
        "id": "Elm6hlC8dxh7"
      },
      "source": [
        "- ### Apply Gaussian Naive Bayes"
      ]
    },
    {
      "cell_type": "code",
      "metadata": {
        "id": "sROJe4c-dxh8"
      },
      "source": [
        "from sklearn.naive_bayes import GaussianNB"
      ],
      "execution_count": 48,
      "outputs": []
    },
    {
      "cell_type": "code",
      "metadata": {
        "colab": {
          "base_uri": "https://localhost:8080/"
        },
        "id": "pfBQrmzodxh8",
        "outputId": "4398a805-e6f5-4f43-d69a-265b79ac9bc9"
      },
      "source": [
        "gnb = GaussianNB()\n",
        "gnb.fit(X_train, y_train)"
      ],
      "execution_count": 49,
      "outputs": [
        {
          "output_type": "execute_result",
          "data": {
            "text/plain": [
              "GaussianNB(priors=None, var_smoothing=1e-09)"
            ]
          },
          "metadata": {
            "tags": []
          },
          "execution_count": 49
        }
      ]
    },
    {
      "cell_type": "code",
      "metadata": {
        "colab": {
          "base_uri": "https://localhost:8080/"
        },
        "id": "d5m1ur_Fdxh8",
        "outputId": "46e064c5-557f-419d-abeb-bc684f221fe7"
      },
      "source": [
        "# Predicting Test Set\n",
        "pred_gnb = gnb.predict(X_test)\n",
        "acc = accuracy_score(y_test, pred_gnb)\n",
        "prec = precision_score(y_test, pred_gnb)\n",
        "rec = recall_score(y_test, pred_gnb)\n",
        "f1 = f1_score(y_test, pred_gnb)\n",
        "\n",
        "model_results = pd.DataFrame([['Gaussian Naive Bayes', acc, prec, rec, f1]],\n",
        "               columns = ['Model', 'Accuracy', 'Precision', 'Recall', 'F1 Score'])\n",
        "\n",
        "results = results.append(model_results, ignore_index = True)\n",
        "print(results)"
      ],
      "execution_count": 50,
      "outputs": [
        {
          "output_type": "stream",
          "text": [
            "                              Model  Accuracy  Precision    Recall  F1 Score\n",
            "0               Logistic Regression  0.780333   0.000000  0.000000  0.000000\n",
            "1  Logistic Regression - with SMOTE  0.565333   0.296530  0.713202  0.418895\n",
            "2                     Decision Tree  0.727000   0.383721  0.400607  0.391982\n",
            "3               Random Forest(Gini)  0.820667   0.660477  0.377845  0.480695\n",
            "4            Random Forest(Entropy)  0.817000   0.648649  0.364188  0.466472\n",
            "5            Support Vector Machine  0.780333   1.000000  0.000000  0.000000\n",
            "6                   KNN-3 neigbours  0.733000   0.330144  0.209408  0.256267\n",
            "7                   KNN-4 neigbours  0.762333   0.344828  0.091047  0.144058\n",
            "8                   KNN-5 neigbours  0.745333   0.325581  0.148710  0.204167\n",
            "9              Gaussian Naive Bayes  0.356333   0.245600  0.931715  0.388731\n"
          ],
          "name": "stdout"
        }
      ]
    },
    {
      "cell_type": "markdown",
      "metadata": {
        "id": "f_mU1IoXdxh8"
      },
      "source": [
        "- ### Apply Bernoulli Naive Bayes"
      ]
    },
    {
      "cell_type": "code",
      "metadata": {
        "id": "2HCZGPvgdxh8"
      },
      "source": [
        "from sklearn.naive_bayes import BernoulliNB"
      ],
      "execution_count": 51,
      "outputs": []
    },
    {
      "cell_type": "code",
      "metadata": {
        "colab": {
          "base_uri": "https://localhost:8080/"
        },
        "id": "O9OO6Akmdxh8",
        "outputId": "eda6629e-b606-43e4-b907-6882ac0217d1"
      },
      "source": [
        "model_bnb = BernoulliNB()\n",
        "model_bnb.fit(X_train, y_train)"
      ],
      "execution_count": 52,
      "outputs": [
        {
          "output_type": "execute_result",
          "data": {
            "text/plain": [
              "BernoulliNB(alpha=1.0, binarize=0.0, class_prior=None, fit_prior=True)"
            ]
          },
          "metadata": {
            "tags": []
          },
          "execution_count": 52
        }
      ]
    },
    {
      "cell_type": "code",
      "metadata": {
        "colab": {
          "base_uri": "https://localhost:8080/"
        },
        "id": "RbuBJ8Yadxh8",
        "outputId": "9725056e-b14c-42fa-e44b-dd9968f2f237"
      },
      "source": [
        "# Predicting Test Set\n",
        "pred_bnb = model_bnb.predict(X_test)\n",
        "acc = accuracy_score(y_test, pred_bnb)\n",
        "prec = precision_score(y_test, pred_bnb)\n",
        "rec = recall_score(y_test, pred_bnb)\n",
        "f1 = f1_score(y_test, pred_bnb)\n",
        "\n",
        "model_results = pd.DataFrame([['Bernoulli Naive Bayes', acc, prec, rec, f1]],\n",
        "               columns = ['Model', 'Accuracy', 'Precision', 'Recall', 'F1 Score'])\n",
        "\n",
        "results = results.append(model_results, ignore_index = True)\n",
        "print(results)"
      ],
      "execution_count": 53,
      "outputs": [
        {
          "output_type": "stream",
          "text": [
            "                               Model  Accuracy  Precision    Recall  F1 Score\n",
            "0                Logistic Regression  0.780333   0.000000  0.000000  0.000000\n",
            "1   Logistic Regression - with SMOTE  0.565333   0.296530  0.713202  0.418895\n",
            "2                      Decision Tree  0.727000   0.383721  0.400607  0.391982\n",
            "3                Random Forest(Gini)  0.820667   0.660477  0.377845  0.480695\n",
            "4             Random Forest(Entropy)  0.817000   0.648649  0.364188  0.466472\n",
            "5             Support Vector Machine  0.780333   1.000000  0.000000  0.000000\n",
            "6                    KNN-3 neigbours  0.733000   0.330144  0.209408  0.256267\n",
            "7                    KNN-4 neigbours  0.762333   0.344828  0.091047  0.144058\n",
            "8                    KNN-5 neigbours  0.745333   0.325581  0.148710  0.204167\n",
            "9               Gaussian Naive Bayes  0.356333   0.245600  0.931715  0.388731\n",
            "10             Bernoulli Naive Bayes  0.788333   0.519672  0.481032  0.499606\n"
          ],
          "name": "stdout"
        }
      ]
    },
    {
      "cell_type": "markdown",
      "metadata": {
        "id": "BJ-HxyTidxh9"
      },
      "source": [
        "- ### Which model fits the best?"
      ]
    },
    {
      "cell_type": "markdown",
      "metadata": {
        "id": "Kofl2VXpdxh9"
      },
      "source": [
        "- #### Check Best Accuracy"
      ]
    },
    {
      "cell_type": "code",
      "metadata": {
        "colab": {
          "base_uri": "https://localhost:8080/",
          "height": 320
        },
        "id": "L5VNdHXXdxh9",
        "outputId": "c30edc64-034d-42ab-ad1e-4ee8933b15ca"
      },
      "source": [
        "plt.figure(figsize=(8,5))\n",
        "max_acc_index=results.Accuracy[results.Accuracy==results.Accuracy.max()].index[0]\n",
        "plt.barh(results.Model,results.Accuracy,color='c')\n",
        "plt.barh(results.Model[max_acc_index],results.Accuracy[max_acc_index],color='m')\n",
        "plt.show()"
      ],
      "execution_count": 54,
      "outputs": [
        {
          "output_type": "display_data",
          "data": {
            "image/png": "[encoded data removed]",
            "text/plain": [
              "<Figure size 576x360 with 1 Axes>"
            ]
          },
          "metadata": {
            "tags": [],
            "needs_background": "light"
          }
        }
      ]
    },
    {
      "cell_type": "markdown",
      "metadata": {
        "id": "jpsNrg5Kdxh9"
      },
      "source": [
        "- #### Check Best Precision"
      ]
    },
    {
      "cell_type": "code",
      "metadata": {
        "colab": {
          "base_uri": "https://localhost:8080/",
          "height": 320
        },
        "id": "NL6hHzXbdxh9",
        "outputId": "ea98421c-a707-424c-f942-126454c538c5"
      },
      "source": [
        "plt.figure(figsize=(8,5))\n",
        "max_pre_index=results.Precision[results.Precision==results.Precision.max()].index[0]\n",
        "plt.barh(results.Model,results.Precision,color='c')\n",
        "plt.barh(results.Model[max_pre_index],results.Precision[max_pre_index],color='m')\n",
        "plt.show()"
      ],
      "execution_count": 55,
      "outputs": [
        {
          "output_type": "display_data",
          "data": {
            "image/png": "[encoded data removed]",
            "text/plain": [
              "<Figure size 576x360 with 1 Axes>"
            ]
          },
          "metadata": {
            "tags": [],
            "needs_background": "light"
          }
        }
      ]
    },
    {
      "cell_type": "markdown",
      "metadata": {
        "id": "RscU-l4_dxh9"
      },
      "source": [
        "- #### Check Best Recall"
      ]
    },
    {
      "cell_type": "code",
      "metadata": {
        "colab": {
          "base_uri": "https://localhost:8080/",
          "height": 320
        },
        "id": "nw4sXx6Idxh-",
        "outputId": "1ba67e14-ae11-4377-c3bb-785e5081902d"
      },
      "source": [
        "plt.figure(figsize=(8,5))\n",
        "max_rc_index=results.Recall[results.Recall==results.Recall.max()].index[0]\n",
        "plt.barh(results.Model,results.Recall,color='c')\n",
        "plt.barh(results.Model[max_rc_index],results.Recall[max_rc_index],color='m')\n",
        "plt.show()"
      ],
      "execution_count": 56,
      "outputs": [
        {
          "output_type": "display_data",
          "data": {
            "image/png": "[encoded data removed]",
            "text/plain": [
              "<Figure size 576x360 with 1 Axes>"
            ]
          },
          "metadata": {
            "tags": [],
            "needs_background": "light"
          }
        }
      ]
    },
    {
      "cell_type": "markdown",
      "metadata": {
        "id": "krSuGVgudxh-"
      },
      "source": [
        "- #### Best F1-Score"
      ]
    },
    {
      "cell_type": "code",
      "metadata": {
        "colab": {
          "base_uri": "https://localhost:8080/",
          "height": 320
        },
        "id": "DpXImwyTdxh-",
        "outputId": "fe5ea016-04c9-4fd9-a0a9-6982a1ce5220"
      },
      "source": [
        "plt.figure(figsize=(8,5))\n",
        "max_f1_index=results['F1 Score'][results['F1 Score']==results['F1 Score'].max()].index[0]\n",
        "plt.barh(results.Model,results['F1 Score'],color='c')\n",
        "plt.barh(results.Model[max_f1_index],results.Accuracy[max_f1_index],color='m')\n",
        "plt.show()"
      ],
      "execution_count": 57,
      "outputs": [
        {
          "output_type": "display_data",
          "data": {
            "image/png": "[encoded data removed]",
            "text/plain": [
              "<Figure size 576x360 with 1 Axes>"
            ]
          },
          "metadata": {
            "tags": [],
            "needs_background": "light"
          }
        }
      ]
    },
    {
      "cell_type": "markdown",
      "metadata": {
        "id": "NN4n8NMSdxh-"
      },
      "source": [
        "Based on accuracy Random Forest(Gini) is the best model. On considering other parameters of the model it is performing well."
      ]
    },
    {
      "cell_type": "markdown",
      "metadata": {
        "id": "DTaZZBwPdxh-"
      },
      "source": [
        "<b><i>Conclusion</i></b>: In this demonstration of the case study, we have gained an understanding of how to apply various data pre-processing steps, apply SMOTE and different classification algorithms."
      ]
    }
  ]
}
